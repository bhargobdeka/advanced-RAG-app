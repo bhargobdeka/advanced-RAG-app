{
 "cells": [
  {
   "cell_type": "code",
   "execution_count": 1,
   "metadata": {},
   "outputs": [
    {
     "name": "stdout",
     "output_type": "stream",
     "text": [
      "\n",
      "\u001b[1m[\u001b[0m\u001b[34;49mnotice\u001b[0m\u001b[1;39;49m]\u001b[0m\u001b[39;49m A new release of pip is available: \u001b[0m\u001b[31;49m24.0\u001b[0m\u001b[39;49m -> \u001b[0m\u001b[32;49m24.1.2\u001b[0m\n",
      "\u001b[1m[\u001b[0m\u001b[34;49mnotice\u001b[0m\u001b[1;39;49m]\u001b[0m\u001b[39;49m To update, run: \u001b[0m\u001b[32;49mpip install --upgrade pip\u001b[0m\n",
      "Note: you may need to restart the kernel to use updated packages.\n"
     ]
    },
    {
     "name": "stderr",
     "output_type": "stream",
     "text": [
      "/Users/bhargobdeka/Desktop/Projects/RAG/venv/lib/python3.10/site-packages/tqdm/auto.py:21: TqdmWarning: IProgress not found. Please update jupyter and ipywidgets. See https://ipywidgets.readthedocs.io/en/stable/user_install.html\n",
      "  from .autonotebook import tqdm as notebook_tqdm\n"
     ]
    }
   ],
   "source": [
    "#%brew install tesseract poppler\n",
    "%pip install -q \"unstructured[all-docs]\"\n",
    "\n",
    "from unstructured.partition.pdf import partition_pdf"
   ]
  },
  {
   "cell_type": "code",
   "execution_count": 2,
   "metadata": {},
   "outputs": [],
   "source": [
    "from unstructured.partition.pdf import partition_pdf\n",
    "\n",
    "elements = partition_pdf(\n",
    "    filename=\"TAGIV.pdf\", # mandatory\n",
    "    strategy=\"hi_res\",                                     # mandatory to use ``hi_res`` strategy\n",
    "    extract_images_in_pdf=True,                            # mandatory to set as ``True``\n",
    "    extract_image_block_types=[\"Image\", \"Table\"],          # optional\n",
    "    extract_image_block_to_payload=False,                  # optional\n",
    "    extract_image_block_output_dir=\"saved_images\",  # optional - only works when ``extract_image_block_to_payload=False``\n",
    "    )"
   ]
  },
  {
   "cell_type": "code",
   "execution_count": 3,
   "metadata": {},
   "outputs": [
    {
     "data": {
      "text/plain": [
       "{\"<class 'unstructured.documents.elements.Header'>\": 26,\n",
       " \"<class 'unstructured.documents.elements.Title'>\": 33,\n",
       " \"<class 'unstructured.documents.elements.NarrativeText'>\": 100,\n",
       " \"<class 'unstructured.documents.elements.Footer'>\": 3,\n",
       " \"<class 'unstructured.documents.elements.Text'>\": 18,\n",
       " \"<class 'unstructured.documents.elements.Formula'>\": 42,\n",
       " \"<class 'unstructured.documents.elements.Image'>\": 14,\n",
       " \"<class 'unstructured.documents.elements.FigureCaption'>\": 17,\n",
       " \"<class 'unstructured.documents.elements.Table'>\": 4,\n",
       " \"<class 'unstructured.documents.elements.ListItem'>\": 40}"
      ]
     },
     "execution_count": 3,
     "metadata": {},
     "output_type": "execute_result"
    }
   ],
   "source": [
    "from typing import Any\n",
    "\n",
    "# different category in the document\n",
    "category_counts = {}\n",
    "\n",
    "for element in elements:\n",
    "    category = str(type(element))\n",
    "    if category in category_counts:\n",
    "        category_counts[category] += 1\n",
    "    else:\n",
    "        category_counts[category] = 1\n",
    "    \n",
    "# Unique_categories will have unique elements\n",
    "unique_categories = set(category_counts.keys())\n",
    "category_counts   "
   ]
  },
  {
   "cell_type": "code",
   "execution_count": 4,
   "metadata": {},
   "outputs": [
    {
     "name": "stdout",
     "output_type": "stream",
     "text": [
      "\n",
      "\u001b[1m[\u001b[0m\u001b[34;49mnotice\u001b[0m\u001b[1;39;49m]\u001b[0m\u001b[39;49m A new release of pip is available: \u001b[0m\u001b[31;49m24.0\u001b[0m\u001b[39;49m -> \u001b[0m\u001b[32;49m24.1.2\u001b[0m\n",
      "\u001b[1m[\u001b[0m\u001b[34;49mnotice\u001b[0m\u001b[1;39;49m]\u001b[0m\u001b[39;49m To update, run: \u001b[0m\u001b[32;49mpip install --upgrade pip\u001b[0m\n",
      "Note: you may need to restart the kernel to use updated packages.\n"
     ]
    }
   ],
   "source": [
    "%pip install -q langchain langchain-chroma unstructured[all-docs] pydantic lxml langchainhub"
   ]
  },
  {
   "cell_type": "code",
   "execution_count": 62,
   "metadata": {},
   "outputs": [
    {
     "data": {
      "text/plain": [
       "{\"<class 'unstructured.documents.elements.CompositeElement'>\": 200,\n",
       " \"<class 'unstructured.documents.elements.Table'>\": 3,\n",
       " \"<class 'unstructured.documents.elements.TableChunk'>\": 2}"
      ]
     },
     "execution_count": 62,
     "metadata": {},
     "output_type": "execute_result"
    }
   ],
   "source": [
    "from unstructured.chunking.basic import chunk_elements\n",
    "from unstructured.chunking.title import chunk_by_title # might be better for an article ?\n",
    "from typing import Any\n",
    "\n",
    "chunks = chunk_by_title(elements)\n",
    "\n",
    "# different category in the document\n",
    "category_counts = {}\n",
    "\n",
    "for element in chunks:\n",
    "    category = str(type(element))\n",
    "    if category in category_counts:\n",
    "        category_counts[category] += 1\n",
    "    else:\n",
    "        category_counts[category] = 1\n",
    "    \n",
    "# Unique_categories will have unique elements\n",
    "unique_categories = set(category_counts.keys())\n",
    "category_counts   "
   ]
  },
  {
   "cell_type": "code",
   "execution_count": 63,
   "metadata": {},
   "outputs": [],
   "source": [
    "from pydantic import BaseModel\n",
    "\n",
    "class Element(BaseModel):\n",
    "    type: str\n",
    "    text: Any\n",
    "\n",
    "\n",
    "# Categorize by type\n",
    "categorized_elements = []\n",
    "for element in chunks:\n",
    "    if \"unstructured.documents.elements.CompositeElement\" in str(type(element)):\n",
    "        categorized_elements.append(Element(type=\"text\", text=str(element)))\n",
    "    elif \"unstructured.documents.elements.Table\" in str(type(element)):\n",
    "        categorized_elements.append(Element(type=\"table\", text=str(element)))\n",
    "    \n",
    "\n",
    "# Text\n",
    "text_elements = [e for e in categorized_elements if e.type == \"text\"]\n",
    "\n",
    "# Table\n",
    "table_elements = [e for e in categorized_elements if e.type == \"table\"]\n"
   ]
  },
  {
   "cell_type": "code",
   "execution_count": 7,
   "metadata": {},
   "outputs": [
    {
     "name": "stdout",
     "output_type": "stream",
     "text": [
      "\n",
      "\u001b[1m[\u001b[0m\u001b[34;49mnotice\u001b[0m\u001b[1;39;49m]\u001b[0m\u001b[39;49m A new release of pip is available: \u001b[0m\u001b[31;49m24.0\u001b[0m\u001b[39;49m -> \u001b[0m\u001b[32;49m24.1.2\u001b[0m\n",
      "\u001b[1m[\u001b[0m\u001b[34;49mnotice\u001b[0m\u001b[1;39;49m]\u001b[0m\u001b[39;49m To update, run: \u001b[0m\u001b[32;49mpip install --upgrade pip\u001b[0m\n",
      "Note: you may need to restart the kernel to use updated packages.\n"
     ]
    }
   ],
   "source": [
    "%pip install -q langchain-openai"
   ]
  },
  {
   "cell_type": "code",
   "execution_count": 64,
   "metadata": {},
   "outputs": [],
   "source": [
    "from langchain_core.output_parsers import StrOutputParser\n",
    "from langchain_core.prompts import ChatPromptTemplate\n",
    "from langchain_openai import ChatOpenAI\n",
    "\n",
    "## Retriever\n",
    "\n",
    "# Prompt\n",
    "prompt_text = \"\"\"You are an expert Research Assistant tasked with summarizing tables and texts from research articles. \\ \n",
    "Give a concise summary of the text. text chunk: {element} \"\"\"\n",
    "\n",
    "prompt = ChatPromptTemplate.from_template(prompt_text)\n",
    "\n",
    "# Summary chain\n",
    "model = ChatOpenAI(temperature=0, model=\"gpt-4o\")\n",
    "summarize_chain = {\"element\": lambda x: x} | prompt | model | StrOutputParser()"
   ]
  },
  {
   "cell_type": "code",
   "execution_count": 65,
   "metadata": {},
   "outputs": [],
   "source": [
    "# Apply to texts\n",
    "texts = [i.text for i in text_elements]\n",
    "text_summaries = summarize_chain.batch(texts, {\"max_concurrency\": 5})"
   ]
  },
  {
   "cell_type": "code",
   "execution_count": 114,
   "metadata": {},
   "outputs": [
    {
     "name": "stdout",
     "output_type": "stream",
     "text": [
      "[\"In their 2023 article published in Neurocomputing, Deka, Nguyen, and Goulet present a method for analytically tractable heteroscedastic uncertainty quantification in Bayesian neural networks (BNNs) specifically for regression tasks. The authors address the challenge of modeling varying levels of uncertainty in data (heteroscedasticity) and propose a solution that enhances the interpretability and reliability of BNNs in predicting outcomes with varying uncertainty levels. The study's findings contribute to the field by providing a more robust framework for uncertainty quantification in regression models.\", 'The paper titled \"Analytically Tractable Heteroscedastic Uncertainty Quantification in Bayesian Neural Networks for Regression Tasks\" is authored by Bhargob Deka, Luong Ha Nguyen, and James-A. Goulet from the Department of Civil, Geologic, and Mining Engineering at Polytechnique Montreal, Canada. The research focuses on developing methods for quantifying uncertainty in Bayesian Neural Networks (BNNs) specifically for regression tasks. The approach aims to be analytically tractable while addressing heteroscedasticity, which refers to the variability of uncertainty across different data points. The study\\'s goal is to improve the reliability and interpretability of BNNs in practical applications.', 'The tractable approximate Gaussian inference (TAGI) method facilitates analytical parameter inference in Bayesian neural networks but is limited to modeling homoscedastic aleatory uncertainty with a constant error variance. This paper introduces the approximate Gaussian variance inference (AGVI) method, which allows for the analytical inference of error variance as a Gaussian random variable. The combined framework of TAGI and AGVI enhances the modeling capabilities by addressing the limitations of constant error variance.', 'TAGI-V, which incorporates heteroscedastic aleatory uncertainty into Bayesian neural networks, surpasses the homoscedastic version of TAGI in predictive performance on benchmark regression datasets. Additionally, TAGI-V is significantly faster—by an order of magnitude—while maintaining comparable or superior predictive performance compared to other approximate inference methods.', 'This research focuses on developing methods for tractable approximate Gaussian inference, specifically targeting the challenges of approximate Gaussian variance inference. The study addresses aleatory uncertainty and aims to achieve closed-form inference solutions. The approach involves Gaussian multiplicative approximation to enhance the efficiency and accuracy of the inference process.', \"Making informed decisions with machine learning models necessitates quantifying their predictive uncertainty. This involves addressing two types of uncertainty: epistemic, which is due to limited knowledge about the model's structure and parameters and can be reduced by gathering more data, and aleatory, which is due to inherent data variability and cannot be reduced by additional data. Aleatory uncertainty can be further divided into homoscedastic (constant across data points) and other forms.\", \"Bayesian neural networks (BNNs) offer a probabilistic approach to gauge the confidence in a model's parameters and predictions, accommodating both constant and varying (heteroscedastic) uncertainties with input values. However, exact Bayesian inference in neural networks is computationally impractical, leading to the development of various approximate inference methods. One notable method is Hamiltonian Monte Carlo (HMC), a sampling technique.\", 'The reference method for Bayesian Neural Networks (BNN) [22, 12] is not scalable for most practical applications and necessitates problem-specific parameter tuning [12].', 'The article by Deka, Nguyen, and Goulet (2023) titled \"Analytically tractable heteroscedastic uncertainty quantification in Bayesian neural networks for regression tasks\" was published in Neurocomputing. The study focuses on developing methods for quantifying uncertainty in Bayesian neural networks, specifically addressing heteroscedasticity in regression tasks. The authors propose an analytically tractable approach to improve the accuracy and reliability of uncertainty estimates in these models.', 'The probabilistic backpropagation (PBP) method employs expectation propagation to estimate parameters in Bayesian Neural Networks (BNNs). Unlike traditional backpropagation, PBP calculates the posterior distribution of parameters by propagating the gradients of the marginal likelihood backward. The Monte Carlo dropout (MC-dropout) method uses dropout as a Bayesian approximation to derive an approximate predictive distribution, computing predictive uncertainty by averaging over multiple dropout samples.', 'MC-dropout, an ensemble method for neural networks, is significantly faster than PBP but requires hyperparameter tuning. It has inspired further research into ensemble methods. Deep ensembles offer a straightforward and scalable approach that integrates ensembling techniques with adversarial training, enhancing predictive performance and robustness against out-of-distribution data.', 'Variational inference remains a key focus in Bayesian Neural Networks (BNNs). Noteworthy methods include Variational Matrix Gaussian (VMG) and Probabilistic Backpropagation with Matrix-Variate Gaussian (PBP-MV). VMG employs matrix-variate Gaussian priors over weights, unlike PBP, which uses independent standard Gaussian priors. However, practical applications of variational Bayes are limited due to computational constraints and sensitivity issues.', 'Deterministic variational inference (DVI) addresses limitations in prior variances for weights by offering analytically tractable moment computation and an empirical Bayes method for automatic prior variance assignment. Another contemporary method, stochastic weight averaging Gaussian (SWAG), leverages information from the stochastic gradient descent (SGD) trajectory to approximate a Gaussian posterior distribution over parameters.', 'Stochastic Weight Averaging (SWA) uses the mean and a low-rank plus diagonal covariance matrix from SGD iterations to form a Gaussian distribution, from which samples are drawn for Bayesian model averaging. A recent method, subspace inference (SI), extends this concept to facilitate inference in high-dimensional parameter spaces.', 'The SI (Subspace Inference) method for deep neural networks involves three main steps: constructing low-dimensional subspaces for the parameters, performing posterior inference within these subspaces, and conducting Bayesian model averaging. This approach enhances accuracy and provides well-calibrated prediction uncertainty. Various subspace selection methods can be used, including principal component analysis (PCA) subspace, random subspace, and mode-connected subspace.', 'The text discusses methods for posterior inference within subspaces, including variational inference and MCMC methods like HMC and ESS. It highlights a recent method called analytically tractable approximate Gaussian inference (TAGI), which enables analytical parameter inference in Bayesian Neural Networks (BNNs). TAGI has demonstrated competitive performance compared to networks trained with backpropagation. However, the text implies that TAGI has some limitations in its current form.', 'The paper introduces the Analytically Tractable Approximate Gaussian Variance Inference (AGVI) method for modeling heteroscedastic aleatory uncertainty within the TAGI framework. Unlike traditional models that assume a constant error variance across input domains, AGVI addresses varying uncertainty levels. The method involves two main steps: initially employing the Gaussian Multiplicative Approximation (GMA) to establish necessary relationships.', 'The text describes a method for inferring the error variance (σ²_V) analytically as a Gaussian random variable. This is achieved in two steps: first, by using Gaussian random variables to describe the error (V), its square (V²), and the expected value of V² to establish prior knowledge of σ²_V; and second, by updating this prior knowledge with posterior information about the error (V). The method is called TAGI-V.', 'Deka, B., Nguyen, L. H., and Goulet, J-A. (2023) present a study on heteroscedastic uncertainty quantification in Bayesian neural networks (BNNs) for regression tasks. The research focuses on developing an analytically tractable method to handle varying levels of uncertainty in data, enhancing the reliability and interpretability of BNNs in predictive modeling. The findings are published in the journal Neurocomputing, article number 127183.', 'The paper integrates the TAGI framework with AGVI to model heteroscedastic aleatory uncertainty, overcoming a limitation of the original TAGI method. It is structured as follows: Section 1 introduces the topic and reviews related works; Section 2 discusses the TAGI method for analytically tractable posterior inference in Bayesian neural networks; and Section 3 introduces the AGVI method for managing heteroscedastic uncertainty within the TAGI framework.', 'Section 4 assesses the effectiveness of TAGI-V in handling regression tasks and compares its performance with other existing approximate inference methods.', 'The text \"2 Tractable Approximate Gaussian Inference\" likely discusses methods for performing Gaussian inference in a computationally efficient manner. Gaussian inference involves updating beliefs about a system\\'s state based on new data, which can be computationally intensive. The term \"tractable\" suggests that the focus is on making these computations feasible for practical use, possibly through approximations that simplify the calculations while maintaining acceptable accuracy. The text may cover specific algorithms or techniques that achieve this balance between computational efficiency and inference quality.', 'The section reviews the TAGI method from [9] for determining the posterior probability density function (PDF) of parameters in Bayesian neural networks. It focuses on a feedforward neural network (FNN) architecture and outlines the notation used: lower case slanted letters for deterministic variables, upper case slanted letters for random variables, slanted lower case bold for vectors, and upright upper case for matrices.', 'The text describes the notation and structure of a Feedforward Neural Network (FNN) with \\\\( L \\\\) hidden layers. It explains that bold font is used for matrices, and typewriter style is used for specific names or to denote the number of variables in a set, vector, or matrix. The FNN aims to learn the relationship between input covariates \\\\( x \\\\in \\\\mathbb{R}^X \\\\) and the observed system response \\\\( y \\\\in \\\\mathbb{R}^Y \\\\). Each hidden layer \\\\( j \\\\) (where \\\\( j \\\\) ranges from 1 to \\\\( L \\\\)) consists of \\\\( A \\\\) hidden units, which are computed using an activation function \\\\( \\\\varphi(\\\\cdot) \\\\).', 'The text discusses the connection between the observed system response, denoted as \\\\( y \\\\), and the outputs generated by a model.', 'The given text represents a mathematical model where \\\\( y \\\\) is defined as the sum of \\\\( z(O) \\\\) and \\\\( v \\\\). Here, \\\\( v \\\\) is a random variable that follows a normal distribution with a mean of 0 and a variance of \\\\( \\\\sigma^2_V \\\\).', 'The text describes a Feedforward Neural Network (FNN) model where \\\\( z(O) \\\\) is the vector of hidden units in the output layer, and \\\\( v \\\\) is the error term with mean zero and variance \\\\( \\\\sigma^2_V \\\\). Figure 1 illustrates this FNN, showing the input covariates \\\\( x \\\\) and the causal relationships between nodes, represented by directed arrows. The parameters between any two layers \\\\( j \\\\) and \\\\( j+1 \\\\) are denoted by \\\\( \\\\theta(j) \\\\), where \\\\( j \\\\) ranges from 1 to \\\\( L \\\\).', 'The text describes a model where an observation, represented by a blue node labeled \"y,\" is linked to an output unit denoted as \"z(O).\" Additionally, an error term \"v\" is included to represent the model as specified in Equation 1.', 'Figure 1 illustrates a Feedforward Neural Network (FNN) designed to produce a single output \\\\( z(O) \\\\) based on input covariates \\\\( x \\\\). The network consists of \\\\( L \\\\) hidden layers, each containing \\\\( A \\\\) hidden units. The parameters between any two consecutive layers \\\\( j \\\\) and \\\\( j+1 \\\\) are denoted by \\\\( \\\\theta(j) \\\\). The observation \\\\( y \\\\), shown as a blue node, is linked to the output unit \\\\( z(O) \\\\), and the error \\\\( v \\\\) is used to represent the model as described in Equation 1.', 'The text discusses the propagation of uncertainties in Bayesian neural networks for regression tasks. Specifically, it mentions the need to propagate uncertainties from the activation hidden units in one layer to the hidden units in the subsequent layer. This process is part of the method described by Deka, Nguyen, and Goulet (2023) in their paper on analytically tractable heteroscedastic uncertainty quantification, published in Neurocomputing.', 'The text discusses the treatment of parameters \\\\( W \\\\) as Gaussian random variables in a model. Equation 2 involves the product of weights \\\\( W \\\\) and activation units \\\\( A \\\\), with exact moments computed using the Gaussian multiplicative approximation (GMA). TAGI (Tractable Approximate Gaussian Inference) employs a 1st order Taylor series approximation at the expected value of the hidden unit \\\\( \\\\mu \\\\) to keep the process analytically manageable when propagating uncertainty through the activation function. Further details are provided in Appendix A.', 'The method maintains linear computational complexity by using a diagonal covariance matrix for both parameters (θ) and hidden units (Z(j)). It employs a recursive, layer-wise Gaussian inference approach, leveraging the conditional independence between hidden units Z(j−1) and Z(j+1) given Z(j), and assumes that parameters θ are independent for each layer. This involves a two-fold inference step.', 'The text discusses the calculation of posterior moments for parameters θ and hidden units Z(j). It specifically mentions obtaining the posterior expected value and the diagonal covariance matrix for the output units.', 'The text presents a probabilistic model for the conditional distribution of \\\\( z(O) \\\\) given \\\\( y \\\\). It specifies that this distribution follows a normal distribution \\\\( N \\\\) with mean \\\\( \\\\mu_{Z(O)|y} \\\\) and covariance \\\\( \\\\Sigma_{Z(O)|y} \\\\). The mean \\\\( \\\\mu_{Z(O)|y} \\\\) is adjusted by a term involving the covariance matrices and the difference between \\\\( y \\\\) and its mean \\\\( \\\\mu_Y \\\\). The covariance \\\\( \\\\Sigma_{Z(O)|y} \\\\) is similarly adjusted by subtracting a term involving the inverse of the covariance matrix \\\\( \\\\Sigma_{YZ(O)} \\\\).', 'The text describes the mean vectors and covariance matrices for variables \\\\( Z(O) \\\\) and \\\\( Y \\\\), including their cross-covariance. It then mentions the use of the Rauch-Tung-Striebel (RTS) update equations for a layer-wise backward inference pass, utilizing posterior knowledge of the output units. Details on the posterior moments for parameters \\\\( \\\\theta \\\\) and hidden units \\\\( Z \\\\) are provided in Appendix A.', \"The posterior inference for parameters θ is performed recursively using either single observations or batches, and this process is repeated over multiple epochs (E) to address the issue of weakly informative initial priors for θ(0). TAGI (Tractable Approximate Gaussian Inference) offers an analytically tractable method for determining the posterior expected values and diagonal covariance matrix of a neural network's parameters. However, the original version has certain limitations.\", \"The text discusses a limitation of TAGI (Tractable Approximate Gaussian Inference), which is only applicable to homoscedastic cases where the error variance (σ²) is treated as a hyperparameter. This separation from the main analytical parameter inference process results in significant computational demands and reduces the method's ability to accurately represent aleatory uncertainties.\", 'The section titled \"3 Approximate Gaussian Variance Inference\" likely discusses methods for estimating the variance of a Gaussian distribution when exact inference is computationally challenging. It may cover various approximation techniques, such as variational inference or Monte Carlo methods, to efficiently estimate the variance parameters. The focus is on balancing computational feasibility with the accuracy of the variance estimates in practical applications.', 'The text introduces the Analytically Tractable Approximate Gaussian Variance Inference (AGVI) method for inferring the error variance \\\\( \\\\sigma^2_V \\\\) as a Gaussian random variable. The method involves two main steps: first, establishing the relationships between the Gaussian random variables for the error \\\\( V \\\\), its square \\\\( V^2 \\\\), and the expected value of \\\\( V^2 \\\\) to derive prior knowledge of \\\\( \\\\sigma^2_V \\\\); second, leveraging these relationships to perform the inference.', 'The text discusses using the posterior probability density function (PDF) of the error term \\\\( V \\\\) to derive the posterior knowledge for the variance \\\\( \\\\sigma^2_V \\\\). It introduces AGVI (likely a method or model) in this context.', 'Deka, B., Nguyen, L. H., and Goulet, J-A. (2023) present a study on heteroscedastic uncertainty quantification in Bayesian neural networks (BNNs) for regression tasks. The research focuses on developing an analytically tractable method to handle varying levels of uncertainty in data, enhancing the reliability and interpretability of BNNs in predictive modeling. The findings are published in the journal Neurocomputing, article number 127183.', 'The text discusses extending a univariate model, which has a single variance parameter (σ²_V) for the observation unit Y, to a multivariate case with a diagonal covariance matrix (Σ_V = diag(σ²)). The first step involves using Gaussian Mixture Analysis (GMA), as introduced in Section 2, to model V² with a Gaussian random variable, represented by the probability density function f(v²) = N(v²; µ_V², σ²_V²).', 'The text explains that for a zero-mean variable \\\\( V \\\\), its variance is equal to the expected value of \\\\( V^2 \\\\). The probability density function (PDF) of \\\\( V \\\\) is given by a normal distribution with mean 0 and variance \\\\( \\\\mu_{V^2} \\\\). Additionally, using a proof from the appendix, it is shown that the PDF of \\\\( V^2 \\\\) can be described using only the expected value \\\\( \\\\mu_{V^2} \\\\), resulting in a normal distribution with mean \\\\( \\\\mu_{V^2} \\\\) and variance \\\\( 2\\\\mu_{V^2}^2 \\\\).', 'In this text, the authors discuss the use of Gaussian Mixture Analysis (GMA) to model the variance for a variable \\\\( V_2 \\\\), denoted as \\\\( \\\\sigma^2_{V_2} \\\\). To keep the analysis manageable, they assume that the hyperparameter \\\\( \\\\mu_{V_2} \\\\) in Equation 8 follows a Gaussian distribution, specifically \\\\( V_2 \\\\sim N(v_2; \\\\mu_{V_2}, \\\\sigma^2) \\\\). Additionally, they define the conditional probability density function \\\\( f(v_2|v_2) \\\\) as a Gaussian distribution with mean \\\\( v_2 \\\\) and variance \\\\( 2(v_2)^2 \\\\).', 'The text describes the construction of a probabilistic graphical model illustrating the relationships between random variables \\\\( V \\\\), \\\\( V_2 \\\\), and \\\\( V_2 \\\\). In this model, green nodes represent these variables. A directed arrow from \\\\( V_2 \\\\) to \\\\( V_2 \\\\) indicates a causal relationship as defined by Equation 9. An undirected solid line between \\\\( V_2 \\\\) and \\\\( V \\\\) signifies a one-to-one relationship between their moments, as specified by Equations 6 and 7. This framework is used to derive the prior predictive probability density function (PDF).', 'In Appendix B, specifically in Proof B.2, the procedure to derive the prior predictive probability density function (PDF) for \\\\( V_2 \\\\) is detailed. This includes the calculation of the moments associated with this prior predictive PDF for \\\\( V_2 \\\\).', 'The text describes the derivation of the prior predictive probability density function (PDF) of a variable \\\\( V \\\\). Using Equations 7 and 10, the PDF of \\\\( V \\\\) is given by a normal distribution \\\\( N(v; 0, \\\\mu_V^2) \\\\), where \\\\( \\\\mu_V^2 \\\\) is a parameter derived from the equations.', 'The text describes a method for modeling the moments of \\\\( V^2 \\\\) (the variance of \\\\( V \\\\)) as a function of input covariates \\\\( x \\\\) using a neural network. This network has a two-headed output layer: one unit \\\\( Z(O) \\\\) models the expected value of the system response, and the other models \\\\( V^2 \\\\). This setup is designed to handle heteroscedastic aleatory uncertainty in regression tasks. Figure 3 illustrates the graphical model of this feedforward network.', 'The text describes a graphical model with two output units, Z(O) and V2, which are random variables. The output unit for V2 has its own parameters, denoted as θ(L) V2, which are connected to the last hidden layer (L) in the model, highlighted in red. The model illustrates the causal relationships between the random variables Y, Z(O), and V2.', 'Deka, B., Nguyen, L. H., and Goulet, J-A. (2023) present a study on heteroscedastic uncertainty quantification in Bayesian neural networks (BNNs) for regression tasks. The research focuses on developing an analytically tractable method to handle varying levels of uncertainty in data, which is crucial for improving the reliability and interpretability of BNNs in practical applications. The findings are published in the journal Neurocomputing, article number 127183.', 'Figure 2 illustrates a graphical model depicting the relationships between the random variables \\\\( V \\\\), \\\\( V_2 \\\\), and \\\\( V_2 \\\\), represented by green nodes. A directed arrow indicates a causal relationship between \\\\( V_2 \\\\) and \\\\( V_2 \\\\) as described by Equation 9. Additionally, an undirected solid line between \\\\( V_2 \\\\) and \\\\( V \\\\) signifies a one-to-one relationship between their moments, as defined by Equations 6 and 7.', 'The text describes an observation model where information flows from \\\\( V_2 \\\\) to \\\\( V \\\\), and then to the observation unit \\\\( Y \\\\). To ensure \\\\( V_2 \\\\) remains in the positive domain, its value is transformed using an exponential activation function, resulting in a log-normal probability density function (PDF). The moments for this transformed random variable are detailed in a referenced source.', 'The given text appears to be a mathematical expression related to the covariance of a transformed random variable. Specifically, it describes the covariance of \\\\(V^2\\\\) after applying an exponential transformation. The expression involves parameters \\\\(\\\\mu\\\\) and \\\\(\\\\sigma^2\\\\), which are likely the mean and variance of the original variable \\\\(V\\\\). The covariance is given by a formula that includes exponential functions of these parameters.', 'The text discusses the process of inferring the variance parameter \\\\( \\\\sigma^2_V \\\\) by following a structured approach outlined in Figure 3. The process is divided into two steps. First, the vector of output units, denoted as \\\\( h = [z(O) \\\\, v]^T \\\\), is considered. The posterior probability density function (PDF) \\\\( f(h|y) \\\\) is then defined as:\\n\\n\\\\[ f(h|y) = \\\\frac{f(h, y)}{f(y)} = N(h; \\\\mu_{H|y}, \\\\Sigma_{H|y}) \\\\]\\n\\nThis equation indicates that the posterior PDF is a normal distribution with mean \\\\( \\\\mu_{H|y} \\\\) and covariance \\\\( \\\\Sigma_{H|y} \\\\).', 'Figure 3 illustrates the network architecture for TAGI, featuring a two-headed output layer to derive the random variables \\\\( Z(O) \\\\) and \\\\( V^2 \\\\) based on input covariates \\\\( x \\\\). The output unit for \\\\( V^2 \\\\) includes an extra set of parameters \\\\( \\\\theta(L)_{V^2} \\\\) linked to the last hidden layer \\\\( L \\\\), highlighted in red. Additionally, the figure extends the graphical model to depict the causal relationships among the random variables \\\\( Y \\\\), \\\\( Z(O) \\\\), and \\\\( V \\\\) according to the observation model, building on the graphical model presented in Figure 2.', 'Deka, B., Nguyen, L. H., and Goulet, J-A. (2023) discuss a method for heteroscedastic uncertainty quantification in Bayesian neural networks for regression tasks. They derive the posterior mean vector (µH|y) and covariance matrix (ΣH|y) using Gaussian conditional equations. The equations incorporate terms such as the prior mean (µH), covariance matrices (ΣH and ΣHY), and the observed data (y) with its associated mean (µY) and variance (σ²Y). This approach allows for analytically tractable solutions in the context of Bayesian neural networks.', 'The text discusses updating the current knowledge of a variable \\\\( V_2 \\\\) using the posterior probability density function (PDF) \\\\( f(v|y) \\\\) derived from a specific equation. It references Proof B.3 from Appendix B to present the posterior moments for \\\\( V_2 \\\\). The updated mean (\\\\( \\\\mu_{V_2|y} \\\\)) and variance (\\\\( \\\\sigma^2_{V_2|y} \\\\)) of \\\\( V_2 \\\\) are provided, showing how they are calculated using the posterior distribution.', \"The text describes a method called TAGI-V, which combines the frameworks of TAGI (Tractable Approximate Gaussian Inference) and AGVI (Analytically Tractable Variational Inference). This method allows for analytically tractable inference of a neural network's parameters and error variance, enabling heteroscedastic aleatory uncertainty quantification in regression tasks. The process involves using updated knowledge of Z(O) and V 2 to obtain the posterior for parameters and hidden units through layer-wise recursive inference.\", 'The complexity of the network is O(A^2), where A represents the number of activation units per layer. This complexity scales linearly with the number of hidden layers, L. In TAGI-V, the output layer is modified to include A additional weight terms for the error variance term, which has a complexity of O(A). This modification does not alter the overall network complexity, which remains O(A^2).', 'In this section, the researchers conduct experiments using the TAGI-V method on a 1D toy problem and various UCI regression benchmark datasets. They also provide a comparative analysis with other approximate inference methods commonly used for regression tasks in existing literature.', \"In this study, the authors address a 1D heteroscedastic regression problem defined by the function \\\\( y = -(x + 0.5) \\\\cdot \\\\sin(3\\\\pi x) + v \\\\), where the error variance \\\\( V \\\\) is heteroscedastic and modeled as \\\\( V = 0.45 \\\\cdot (x + 0.5)^2 \\\\). They generate 500 uniformly sampled observations within the range \\\\([-0.5, 0.5]\\\\) and employ a two-layer neural network with 128 hidden units and ReLU activation functions. The network's prior weights and biases are initialized using He’s method, and inference is performed sequentially, one observation at a time.\", 'The text describes a comparison of different methods for training neural networks. Specifically, it mentions the use of their method alongside the homoscedastic original version of TAGI (as implemented in a referenced study), a deterministic heteroscedastic neural network trained with backpropagation, and deterministic variational inference (DVI) as implemented in another referenced study. Figure 4 in the article compares the true function used in these methods.', 'Deka, B., Nguyen, L. H., and Goulet, J-A. (2023) discuss the use of analytically tractable heteroscedastic uncertainty quantification in Bayesian neural networks for regression tasks in their article published in Neurocomputing. They generate data with predictions described by expected values and ±σ confidence regions for various methods. Figure 4(a) demonstrates that TAGI-V effectively manages these predictions.', 'The provided text appears to be a fragmented excerpt from a research article, likely discussing the performance of a neural network model. It mentions \"Epoch\" and \"Learning curve,\" which are common terms in machine learning used to describe the training process and performance over time. The text also references \"deterministic NN,\" indicating a focus on a deterministic neural network model. However, due to the fragmented nature of the text, a more detailed and accurate summary cannot be provided without additional context.', 'The figure illustrates the application of TAGI-V to a toy problem with a heteroscedastic error variance modeled by σ²_V = 0.45 · (x + 0.5)². The training data points are shown in magenta. The true function, y = −(x + 0.5) · sin(3πx) + v, is represented by a red solid line with a red shaded region indicating the ±1σ confidence interval. The model predictions and their ±1σ confidence regions are depicted by a black solid line and a green shaded area, respectively. Panel (a) displays the predictions using TAGI-V.', 'The text describes the learning curve, which illustrates how the test log-likelihood evolves with the number of epochs. Additionally, it references figures that compare predictions made by three different models: the original version of TAGI, a deterministic neural network, and DVI.', \"The text discusses a model's ability to handle heteroscedastic error variance within the training data region and to extrapolate confidence regions outside this area to indicate uncertainty. Figure 4(b) presents a learning curve showing test log-likelihood over epochs, identifying the optimal epoch for a toy problem as 28, determined using early stopping with a patience of 5 epochs. Figure 4(c) references the original TAGI model, though the specific details about it are not included in this text chunk.\", 'The text discusses the limitations and capabilities of different methods in handling heteroscedastic error variance. A deterministic neural network (NN) trained with backpropagation can model heteroscedastic uncertainty within the training data but fails to do so beyond it. In contrast, the DVI method can handle heteroscedastic error variance both within and beyond the training region.', 'The text compares the performance of DVI and TAGI-V in terms of extrapolating confidence intervals and convergence speed. While DVI is better at representing the lack of knowledge outside the training region, it requires significantly more epochs (20,000) to achieve convergence compared to TAGI-V, which only needs 28 epochs, as illustrated in Figure 4(b).', 'In section 4.2 of their 2023 paper, Deka, Nguyen, and Goulet evaluate the performance of their method, TAGI-V, on both small and large UCI regression datasets. They compare TAGI-V with other approximate inference methods commonly used for regression tasks. The analysis begins with the small UCI datasets.', 'In this section, the authors compare their method for small UCI regression datasets against several existing baselines. These baselines include PBP, MC-dropout, deterministic neural networks, ensemble of neural networks, DVI, PBP-MV, VMG, SWAG, and two types of subspace inference methods (PCA+ESS and PCA+VI).', 'This study evaluates the predictive capacity of approximate inference methods using the experimental setup from a previous work. Each dataset is split into 90% training and 10% test sets, with consistent indices across methods. The evaluation is based on 20 different data splits. Implementation details for each method are provided in Appendix C.', 'The study evaluates average test performance using a neural network with a single hidden layer of 50 units for most datasets, except for the Protein dataset, which uses 100 units. For the TAGI-V model, data normalization, ReLU activation, and a batch size of 32 are employed. He’s initialization method is used for prior covariances of weights and biases. The scaling factor for the prior variance of weights for the mean and error variance is also considered.', 'The text describes the procedures used to optimize model performance for different datasets. A grid-search method, detailed in Appendix D, is employed for proper initialization. An early-stopping procedure is also used to determine the optimal number of training epochs by splitting the training set into 80% training and 20% validation subsets. This approach is standard in the literature for comparing the predictive accuracy of various methods as they learn over time.', 'The text discusses the importance of understanding the training time required by different methods to achieve a specific accuracy, in addition to the number of epochs. It introduces a \"time setting\" where learning curves are plotted based on average training time rather than epochs. Results for the epoch setting, where each method is trained for a fixed 100 epochs, are available in Appendix E. Figure 5 shows the maximum test performance.', 'The text discusses the evaluation of log-likelihood and minimum RMSE (Root Mean Square Error) values for the Boston, Energy, and Yacht datasets under a specific time setting. To address significant differences in training times among methods, the horizontal axis is presented in a log-scale (base 10). Additionally, the text mentions the inclusion of maximum log-likelihood values, minimum RMSE values, and learning curves for the PBP-MV and VMG methods, referencing data obtained from a previous study [31].', 'The text discusses the performance of the TAGI-V method in terms of training time per epoch compared to other methods. TAGI-V is approximately 100 times faster than PCA+ESS, PCA+VI, PBP-MV, and VMG, about 10 times faster than PBP, and around 3 times faster than Ensemble. Additional details, such as minimum RMSE values and learning curves for various datasets, are provided in Appendices E and F, respectively.', 'The text indicates that while methods equivalent to TAGI-V eventually achieve similar accuracy, they take longer to converge compared to TAGI-V. This is illustrated in Figure 5. The same observation applies to MC-dropout.', 'Deka, B., Nguyen, L. H., and Goulet, J-A. (2023) present a study on heteroscedastic uncertainty quantification in Bayesian neural networks (BNNs) for regression tasks. The research focuses on developing an analytically tractable method to handle varying levels of uncertainty in data, enhancing the reliability and interpretability of BNNs in predictive modeling. The findings are published in the journal Neurocomputing, article number 127183.', 'The text appears to be a comparison of various machine learning models and techniques, such as PCA+ESS, ePCA+VI, SWAG, TAGLV, TAGLV2L, TAGI, PBP, MC-dropout, PBP-MV, VMG, Ensemble, DVI, and NN, across different datasets (Boston, Yacht, etc.). The performance of these models is likely being evaluated over time, as indicated by the time (s) axis in the graphs. The data points and trends in the graphs suggest how each model performs in terms of accuracy or another metric over a range of time intervals.', 'The text chunk titled \"Energy\" likely discusses various aspects related to energy, such as its sources, consumption, production, and impact on the environment. It may cover renewable and non-renewable energy sources, technological advancements in energy production, energy efficiency, and policies aimed at sustainable energy use. The focus could be on the importance of transitioning to cleaner energy sources to mitigate climate change and ensure a sustainable future.', 'Figure 5 presents a comparison of the maximum test log-likelihood and minimum test RMSE values achieved by TAGI-V and existing baseline methods for three datasets: Boston, Energy, and Yacht. The horizontal axis shows the training time in a logarithmic scale (base 10), while the vertical axis displays the test log-likelihood (top figure) and test RMSE (bottom figure) in a linear scale. The marked points represent different methods: TAGI-V, PBP [12], MC-dropout [5], and another method [34].', 'The text lists various neural network models and inference methods used in research, including deterministic NN, Ensemble, TAGI, TAGI-V 2L (a two-layer TAGI-V network with 100 hidden nodes), PBP-MV, VMG, SWAG, and two subspace inference methods: PCA+ESS and PCA+VI. Each method is referenced with a corresponding citation number.', 'The text discusses the computational challenges and hyperparameter tuning requirements of two methods: MC-dropout and SWAG. MC-dropout needs around 4000 epochs to achieve good predictive performance and requires tuning hyperparameters like learning rate, dropout rate, and precision parameter, which is computationally intensive. Similarly, SWAG involves tuning multiple hyperparameters, including learning rates for both SGD and SWAG, the maximum number of SWAG models, and the number of Monte Carlo samples.', 'The deterministic neural network (NN) is approximately 1.5 times faster than TAGI-V but has poor predictive accuracy, as illustrated in Figure 5. The average training time per epoch for all methods is detailed in Appendix G. In terms of absolute predictive performance, PBP-MV achieves the best test log-likelihood and test results. Manual tuning or cross-validation is required to determine the optimal number of epochs for running stochastic gradient descent (SGD).', 'In a comparison of RMSE across nine datasets, VMG outperforms PBP-MV and other methods in the Power dataset, DVI achieves the best results in the Naval dataset, and TAGI-V performs best in the Yacht dataset. While PBP-MV and VMG deliver state-of-the-art predictive accuracy, they, along with DVI, require significantly more computational time than other methods.', 'Inference methods are effective in delivering high accuracy, particularly for the tasks they are applied to.', 'Deka, B., Nguyen, L. H., and Goulet, J-A. (2023) present a study on heteroscedastic uncertainty quantification in Bayesian neural networks specifically for regression tasks. The research, published in Neurocomputing, focuses on developing analytically tractable methods to improve the accuracy and reliability of predictions in these networks. The work is documented in article number 127183 and can be accessed via its DOI.', 'The text compares the performance and computational efficiency of different methods on small UCI datasets such as Concrete, Kin8nm, Naval, and Protein. It notes that PCA+VI is generally faster and slightly more effective than PCA+ESS. SWAG is highlighted as a low-cost method that offers comparable accuracy to the subspace methods, despite its large number of parameters.', 'TAGI-V, which has only two hyperparameters (gain parameters for the prior variances of weights and biases), converges to its best accuracy much faster than SWAG. To demonstrate its superiority over methods like PBP-MV, which achieve high accuracy at the cost of computational efficiency, TAGI-V was tested using a model with 2 layers and 100 hidden nodes.', 'The two-layer TAGI-V network, represented by the red diamond in Figures 5, outperforms PBP-MV and VMG in test log-likelihood across most datasets, except for Concrete and Wine, while being significantly faster. For test RMSE, TAGI-V surpasses PBP-MV and VMG in 5 out of 9 datasets (Concrete, Energy, Kin8nm, Yacht, and Power). These results indicate that TAGI-V can achieve state-of-the-art predictive performance.', 'TAGI-V demonstrates the potential for superior predictive accuracy on regression tasks by utilizing a larger neural network architecture. It is computationally faster than most other methods, both in terms of training time per epoch and the minimum time required to converge. This makes TAGI-V highly practical for real-world applications. The results discussed were specifically obtained using TAGI-V.', 'The TAGI MATLAB library was tested on a 12-core 3GHz CPU. Recently, new libraries, cuTAGI (C++ & CUDA) and pyTAGI (Python), were released with the TAGI-V formulation. Benchmark tests indicate that these new libraries are over twice as fast as the MATLAB library for small UCI regression datasets.', 'Section 4.2.2 discusses the use of large datasets from the UCI Machine Learning Repository in the context of the research. These datasets are employed to evaluate the performance and robustness of the proposed methods or models. The section likely details the characteristics of these datasets, such as their size, complexity, and the types of data they contain, and explains how they are utilized in the experiments. The goal is to demonstrate the effectiveness of the research approach on a diverse set of real-world data.', 'TAGI-V was evaluated on large UCI regression datasets (elevators, keggdirected, keggundirected, pol, and skillcraft) using an experimental framework from [32]. Each dataset was split into 90% training and 10% test sets, with 10 different splits to calculate the average test RMSE and normalized test log-likelihood values [14]. For all datasets except skillcraft, a network with five hidden layers was employed.', 'The neural network architecture described consists of layers with the following number of hidden units: [1000, 1000, 500, 50, 2]. For the Skillcraft dataset, a smaller network is used with the structure: [1000, 500, 50, 2]. ReLU activation is employed, and the batch size is set to 10. The prior variances for weights and biases are initialized using He’s method. The gain parameters for the prior variances of θ are applied to all hidden layers and the output layer.', 'The text describes the tuning of mean and error variance using a grid-search procedure and the implementation of an early-stopping procedure with a fixed patience of 3 epochs during training. Hyperparameters and computational times for each dataset are detailed in Appendix H. Table 1 presents normalized test log-likelihood and RMSE values for large UCI regression datasets, comparing these results with Bayesian inference methods, specifically the best-performing subspace inference method referenced as [14].', 'The text discusses various methods used in a research study, including principal component analysis combined with variational inference (PCA+VI), stochastic weight averaging-Gaussian (SWAG), Bayesian final layers (NL), and stochastic gradient descent (SGD). These methods are referenced from previous studies [18], [28], and [14]. The results of these methods are being analyzed or compared in the study.', 'Deka, B., Nguyen, L. H., and Goulet, J-A. (2023) present a study on heteroscedastic uncertainty quantification in Bayesian neural networks (BNNs) for regression tasks. The research focuses on developing an analytically tractable method to handle varying levels of uncertainty in data, enhancing the reliability and interpretability of BNNs in predictive modeling. The findings are published in the journal Neurocomputing, article number 127183.', 'The TAGI-V method, evaluated over 3 random seeds, outperforms other methods in test log-likelihood values for 4 out of 5 datasets. For RMSE values, TAGI-V achieves the best results in 2 datasets (Elevators and KeggD) and ranks second in KeggU and Pol. PCA+ VI and NL methods also show strong performance, each excelling in two datasets.', 'Table 1 presents a comparison of the normalized log-likelihood and Root Mean Square Error (RMSE) between TAGI-V and existing Bayesian inference methods, as referenced in studies [14, 18, 28], on large UCI regression datasets. The rankings indicate the performance, with the first rank being the best. The ±σ denotes one standard deviation calculated over 10 data splits.', 'The conclusion section of the research article typically summarizes the key findings, discusses their implications, and suggests potential areas for future research. It often highlights the significance of the study, acknowledges any limitations, and may propose practical applications or recommendations based on the results.', \"The TAGI-V method introduced in this article addresses heteroscedastic aleatory uncertainty, overcoming the original TAGI's limitation of handling only homoscedastic error variance. It integrates the TAGI framework, which facilitates analytical inference of parameters' posterior PDFs in Bayesian neural networks, with AGVI, which allows for the analytical inference of the error variance term as a Gaussian random variable.\", 'The TAGI-V framework outperforms the original TAGI in test log-likelihood and provides similar test RMSE values for small UCI regression datasets. Compared to other approximate inference methods, TAGI-V is significantly faster and offers comparable or superior predictive performance. For large UCI regression datasets, TAGI-V achieved better log-likelihood values in four out of five datasets compared to benchmark methods.', 'The text indicates that the subject under discussion delivers competitive performance, specifically in terms of Root Mean Square Error (RMSE).', 'The project received financial support from research grants provided by the Natural Sciences and Engineering Research Council of Canada (NSERC), Hydro-Québec (HQ), Hydro-Québec’s Research Institute (IREQ), and the Institute For Data Valorization (IVADO).', 'The section introduces the Gaussian Multiplicative Approximation (GMA), a method for approximating the first two moments (mean and variance) of the product of two Gaussian random variables. It considers a vector \\\\( X = [X1, X2, X3, X4]^⊺ \\\\) of Gaussian random variables with a specified mean vector \\\\( \\\\mu \\\\) and covariance matrix \\\\( \\\\Sigma \\\\). The GMA uses the Gaussian moment generating function or a second-order Taylor series expansion to derive equations for the product of any two Gaussian random variables.', 'The text appears to be discussing the concept of variables within a certain context, likely related to a research study or scientific analysis. Variables are elements, features, or factors that can be changed and measured in an experiment or study. The text may be explaining how these variables are defined, manipulated, or measured to understand their effects or relationships within the research framework.', 'The text provides formulas for the expected value, variance, and covariance involving products of random variables. Specifically:\\n\\n1. The expected value of the product of two random variables \\\\(X_1\\\\) and \\\\(X_2\\\\) is given by \\\\(E[X_1X_2] = \\\\mu_1\\\\mu_2 + \\\\text{cov}(X_1, X_2)\\\\).\\n2. The variance of the product of \\\\(X_1\\\\) and \\\\(X_2\\\\) is expressed as \\\\(\\\\text{var}(X_1X_2) = \\\\sigma_1^2\\\\sigma_2^2 + 2\\\\text{cov}(X_1, X_2)\\\\mu_1\\\\mu_2 + \\\\sigma_1^2\\\\mu_2^2 + \\\\sigma_2^2\\\\mu_1^2\\\\).\\n3. The covariance between \\\\(X_3\\\\) and the product \\\\(X_1X_2\\\\) is given by \\\\(\\\\text{cov}(X_3, X_1X_2) = \\\\text{cov}(X_1, X_3)\\\\mu_2 + \\\\text{cov}(X_2, X_3)\\\\mu_1\\\\).\\n4. The covariance between the products \\\\(X_1X_2\\\\) and \\\\(X_3X_4\\\\) is given by \\\\(\\\\text{cov}(X_1X_2, X_3X_4) = \\\\text{cov}(X_1, X_3)\\\\text{cov}(X_2, X_4) + \\\\text{cov}(X_1, X_4)\\\\text{cov}(X_2, X_3) + \\\\text{cov}(X_1, X_3)\\\\mu_2\\\\mu_4 + \\\\text{cov}(X_1, X_4)\\\\mu_2\\\\mu_3 + \\\\text{cov}(X_2, X_3)\\\\mu_1\\\\mu_4 + \\\\text{cov}(X_2, X_4)\\\\mu_1\\\\mu_3\\\\).', \"The procedure for developing the equations is detailed in articles [9, 3]. Using the GMA equations, an approximate Gaussian feedforward network (AG-FNN) can be created, allowing for the analytical propagation of moments from the input to the output layer. This is represented by the equation:\\n\\n{µ(O) Z , Σ(O) Z , Σ(O) Z,θ} = AG-FNN(x, µθ, Σθ),\\n\\nwhere x is the input covariates, and µθ and Σθ are the mean vector and covariance matrix for the neural network's parameters.\", 'The text describes the process for obtaining the posterior moments for the parameters θ and the hidden units Z. It involves calculating the posterior distribution f(Z|y) and f(y), where y represents the observed data. The equations provided detail the means and variances for these distributions, incorporating terms like M, U, b, J, D, and I, which are specific to the model being used. The notation N indicates that the distributions are normal (Gaussian).', 'Deka, B., Nguyen, L. H., and Goulet, J-A. (2023) discuss a method for analytically tractable heteroscedastic uncertainty quantification in Bayesian neural networks for regression tasks in their article published in Neurocomputing. They use shorthand notations for parameters and hidden units in the jth and subsequent layers, denoted as {θ+, Z+} for {θ(j+1), Z(j+1)} and {θ, Z} for {θ(j), Z(j)}. Further details are available in reference [9].', 'Appendix B.1 demonstrates that the probability density function (PDF) of \\\\( V^2 \\\\) depends solely on the mean parameter \\\\( \\\\mu_{V^2} \\\\). The proof leverages the properties of a zero-mean Gaussian variable \\\\( V \\\\). Key points include:\\n\\n- The mean \\\\( \\\\mu_V \\\\) is zero.\\n- The variance \\\\( \\\\sigma^2 \\\\) is equal to \\\\( E[V^2] \\\\).\\n- The fourth moment \\\\( E[V^4] \\\\) is three times the square of the second moment \\\\( E[V^2]^2 \\\\).\\n- The variance of \\\\( V^2 \\\\) is derived as \\\\( 2E[V^2]^2 \\\\).\\n\\nThese relationships confirm that the PDF of \\\\( V^2 \\\\) is determined by its mean parameter.', 'The text describes the probability density function (PDF) of a Gaussian random variable \\\\( V^2 \\\\), which is approximated as \\\\( V^2 \\\\sim N(v^2; \\\\mu_{V^2}, \\\\sigma^2) \\\\). The mean (\\\\(\\\\mu_{V^2}\\\\)) and variance (\\\\(\\\\sigma^2\\\\)) of \\\\( V^2 \\\\) are defined, with the variance expressed as \\\\( \\\\text{var}(V^2) = 2E[V^2]^2 \\\\). Consequently, the PDF of \\\\( V^2 \\\\) depends solely on the unknown parameter \\\\(\\\\mu_{V^2}\\\\) and is given by \\\\( f(v^2|\\\\mu_{V^2}, \\\\sigma^2_{V^2}) \\\\equiv f(v^2|\\\\mu_{V^2}) = N(v^2; \\\\mu_{V^2}, 2\\\\mu^2_{V^2}) \\\\).', 'The text discusses the prior predictive probability density function (PDF) for the random variable \\\\( V^2 \\\\). It starts by defining \\\\( V^2 \\\\) with an expected value \\\\( \\\\mu_{V^2} \\\\) and a normal distribution \\\\( N(v^2; \\\\mu_{V^2}, (\\\\sigma_{V^2})^2) \\\\). Using this, the PDF of \\\\( V^2 \\\\) is rewritten as \\\\( N(v^2; v^2, 2(v^2)^2) \\\\). The Gaussian random variables \\\\( V^2 \\\\) and \\\\( V^2 \\\\) are then expressed in terms of \\\\( \\\\mu_{V^2} \\\\), \\\\( \\\\sigma_{V^2} \\\\), and standard normal variables \\\\( \\\\epsilon \\\\) and \\\\( \\\\zeta \\\\).', 'Deka, B., Nguyen, L. H., and Goulet, J-A. (2023) discuss analytically tractable heteroscedastic uncertainty quantification in Bayesian neural networks for regression tasks in their article published in Neurocomputing. They provide equations for the mean and variance of the prior predictive probability density function (PDF) of \\\\( V_2 \\\\). Specifically, they use Equations (21) and (22) to derive the mean and variance, which are given by:\\n\\n- Mean: \\\\( B[V_2] = E_{72} + V_{ee} \\\\)\\n- Variance: \\\\( \\\\text{var}(V) = \\\\text{var}(V_2) + 2 \\\\text{var}(V_{2e}) + \\\\text{var}(V_{2}) - \\\\text{var}(V_{ey}) + \\\\text{var}(V_{ey} V_2) \\\\)\\n\\nThese derivations utilize the Generalized Method of Moments (GMA) equations detailed in Section A.1 of their paper.', 'The text describes the calculation of the error variance term, denoted as \\\\( \\\\sigma^2_V \\\\). It states that the variance of the product of two variables, \\\\( V^2 \\\\) and \\\\( \\\\epsilon \\\\), is given by the formula \\\\( \\\\text{var}(V^2 \\\\epsilon) = \\\\text{var}(V^2) \\\\cdot \\\\text{var}(\\\\epsilon) + \\\\text{var}(\\\\epsilon) \\\\cdot E[V^2]^2 \\\\). Using Equations (15) and (23), it concludes that the error variance term \\\\( \\\\sigma^2_V \\\\) is equal to \\\\( \\\\mu_{V^2} \\\\).', 'The text discusses the posterior moments for \\\\( V_2 \\\\). It begins by defining the joint probability density function (PDF) \\\\( f(v_2, v_2|y) \\\\) and provides its mean vector \\\\( \\\\mu_{V_2, V_2} \\\\) and covariance matrix \\\\( \\\\Sigma_{V_2, V_2} \\\\). The covariance term between \\\\( V_2 \\\\) and \\\\( V_2 \\\\) is derived using the Generalized Method of Moments (GMA) equations, resulting in the expression \\\\( \\\\text{cov}(V_2, V_2) = \\\\text{var}(V_2) + V_2(\\\\text{cov}(V_2, \\\\text{DER}) + \\\\text{cov}(\\\\text{le}, \\\\text{TEI})) \\\\).', 'The text discusses the probability density function (PDF) \\\\( f(v_2|v_2, y) \\\\) using Gaussian conditional properties and a specific equation (Equation 26). The PDF is expressed as a normal distribution \\\\( N(v_2, \\\\mu_2 V_2|V_2, \\\\sigma_2 V_2|V_2) \\\\). This is part of a study by Deka, Nguyen, and Goulet (2023) on heteroscedastic uncertainty quantification in Bayesian neural networks for regression tasks, published in Neurocomputing.', 'The text discusses the derivation and properties of the posterior mean and variance of a variable \\\\( V_2 \\\\) using Gaussian distribution properties. It starts with equations for \\\\( V_2 \\\\) and its conditional variance, then rewrites these using Equation (27). The posterior mean and variance of \\\\( V_2 \\\\) are derived, incorporating terms for the mean and variance conditioned on another variable \\\\( y \\\\). The final expressions for the posterior mean and variance include adjustments based on the parameters \\\\( k \\\\), \\\\( \\\\mu \\\\), and \\\\( \\\\sigma \\\\).', \"Appendix C of the research article discusses the hyperparameters used for the approximate inference methods. This section likely details the specific settings and configurations applied to the algorithms or models during the inference process, which are crucial for replicating the study's results and understanding the performance of the methods used.\", 'This section outlines the hyperparameters for various approximate inference methods used in the study, including PBP, MC-dropout, deterministic NN, ensemble of neural networks, DVI, PBP-MV, VMG, SWAG, PCA+ESS, PCA+VI, and TAGI. The code for PBP is available in a referenced source, and PBP automatically tunes its hyperparameter (precision, λ) using a gamma hyper-prior with a specified scale.', 'The text describes the methodology for optimizing hyperparameters in a machine learning model using MC-dropout. Specifically, it involves performing a grid search to find the best dropout rate (d) and precision parameter (τ) for each data split. The batch size is set to 128, and the Adam optimizer with its default learning rate in Keras is used. Predictive uncertainty is obtained through 104 forward iterations.', 'In this study, an ensemble of five neural networks is employed, each initialized with random weights and biases. These networks feature a two-headed output layer that estimates both the mean and error variance, utilizing a softplus activation function. The training parameters include a batch size of 128, a learning rate of 0.01, and an epsilon parameter of 1% for adversarial training. Additionally, a single deterministic neural network with the same configuration is also implemented for comparison.', \"The text indicates that the research by Deka, Nguyen, and Goulet (2023) focuses on heteroscedastic uncertainty quantification in Bayesian neural networks for regression tasks. The study uses a batch size of 1 and is published in the journal Neurocomputing. The article's DOI is 127183.\", 'The text discusses the sources of hyperparameters used for different methods in a research study. For DVI, hyperparameters for the toy problem and regression benchmark are sourced from references [33] and [34], respectively. Results for PBP-MV and VMG are taken directly from a study by [31]. The code for subspace inference (SI) methods and stochastic weight averaging Gaussian (SWAG) is provided by [15], with learning rates being a key hyperparameter in the code.', 'The text discusses various hyperparameters used in training models, specifically focusing on stochastic gradient descent (SGD) and SWAG. Key hyperparameters include the starting epoch for SWAG, the number of Monte Carlo (MC) samples drawn during the forward pass, the maximum number of SWAG models, the weight decay rate, and the temperature. These values vary across different datasets. While batch size and the maximum number of training epochs are adopted directly from the original code without changes, the number of MC samples and the maximum number of SWAG models are subject to adjustment.', \"In the study, the models for small UCI regression datasets are fixed to sizes 30 and 20. The TAGI implementation code is available on a specified Github repository. Optimal error variance (σ²) is determined via 5-fold cross-validation. The batch size is set to 10, with the prior covariance for bias initialized at 0.01·I and weights initialized using Xavier's method.\", \"Appendix D discusses the initialization process for the neural network's parameters. This step is crucial as it can significantly impact the network's performance and convergence during training. Proper initialization helps in avoiding issues such as vanishing or exploding gradients, ensuring that the network starts learning effectively from the beginning.\", 'The text discusses a modification of He’s approach for initializing the prior covariance matrix of weights \\\\( W^{(j)} \\\\) and biases \\\\( B^{(j)} \\\\) in hidden layers of a neural network. Originally, the covariance matrix is given by \\\\( \\\\Sigma^{(j)} \\\\cdot I \\\\), where \\\\( n_{j-1} \\\\) is the number of hidden units in the previous layer. The modification introduces a scaling factor \\\\( \\\\alpha \\\\) for the weights, resulting in a new prior covariance matrix \\\\( \\\\tilde{\\\\Sigma}^{(j)} \\\\cdot I \\\\), which is initialized based on the data. Additionally, a different scaling factor \\\\( \\\\beta \\\\) is applied to the weights connected to the second output node.', 'The optimal values for the hyperparameters α and β are determined using a validation set and a grid-search procedure. This involves testing a range of potential values for these hyperparameters to identify the best pair.', 'The text lists three sets of hyperparameters used in a research study. The hyperparameters are:\\n\\n1. Patience: {3, 5, 10}\\n2. α (alpha): {0.1, 0.5, 1}\\n3. β (beta): {0.1, 0.01, 0.001}\\n\\nThese values likely represent different configurations tested during the research.', 'The text discusses the use of patience as a hyperparameter in the early-stopping procedure. Table 2 lists the optimal hyperparameter values for each dataset. Figures 6 and 7 present learning curves for TAGI-V using both the original and modified He’s parameter initialization approaches, with the modified approach generally yielding better predictive accuracy. Figure 8 displays the optimal epoch for each dataset determined through early stopping.', 'Deka, B., Nguyen, L. H., and Goulet, J-A. (2023) present a study on heteroscedastic uncertainty quantification in Bayesian neural networks (BNNs) for regression tasks, published in Neurocomputing. The research focuses on developing an analytically tractable method to handle varying levels of uncertainty in data, enhancing the reliability and interpretability of BNNs in regression applications. The proposed approach aims to improve the performance and robustness of BNNs by accurately modeling and quantifying uncertainty.', 'Table 2 presents the optimized hyperparameters identified through a grid-search procedure. The parameters α and β are linked to the modified He’s approach, while the patience parameter is related to the early-stopping procedure. The grid-search was conducted using a validation set created by splitting the original training set with an 80-20 ratio. The table also includes the total computational time in seconds required for the grid-search process.', 'The study by Deka, Nguyen, and Goulet (2023) focuses on developing an analytically tractable method for quantifying heteroscedastic uncertainty in Bayesian neural networks, specifically for regression tasks. The research is published in Neurocomputing and can be referenced using the DOI 127183.', 'The text appears to describe a series of plots showing the log-likelihood over epochs for different datasets (Boston, Concrete, Naval, Energy, Kin8nm, Power, Protein, Wine, and Yacht). The log-likelihood values are plotted for up to 100 epochs, and the method used is \"Modified He.\" Each subplot (a to i) corresponds to a different dataset, illustrating how the log-likelihood changes as the number of epochs increases.', 'Figure 6 presents the learning curves for test log-likelihood, comparing the performance of the original and modified He’s approach for parameter initialization. The black solid line indicates the performance of the original He’s approach, where scaling factors α and β are set to 1. The red solid line represents the modified He’s approach, which involves tuning the scaling factor for each dataset using a grid-search procedure.', 'The text discusses the specific values assigned to hyperparameters in a research study. Hyperparameters are crucial settings in machine learning models that significantly influence their performance. The text likely details the chosen values for these parameters, which could include learning rates, batch sizes, number of layers, or other model-specific settings. These values are typically selected through experimentation or optimization techniques to achieve the best possible model performance.', 'Deka, B., Nguyen, L. H., and Goulet, J-A. (2023) present a study on heteroscedastic uncertainty quantification in Bayesian neural networks (BNNs) for regression tasks. The research focuses on developing an analytically tractable method to handle varying levels of uncertainty in data, enhancing the reliability and interpretability of BNNs in predictive modeling. The findings are published in the journal Neurocomputing, article number 127183.', \"The text appears to describe the performance of a model across different datasets over a series of epochs. The datasets mentioned include Boston, Kin8nm, Protein, Concrete, Energy, Naval, Power, Wine, and Yacht. For each dataset, the performance metric (possibly error or loss) is plotted against the number of epochs (0, 50, 100). The performance metrics vary across datasets, with specific values given at certain epochs. For example, in the Boston dataset, the metric starts at 0.14 and decreases over epochs, while in the Kin8nm dataset, it starts at 4.9 and also decreases. Similar trends are observed for other datasets, indicating the model's learning progress over time.\", 'Figure 7 presents the learning curves for test RMSE, comparing the performance of the original and modified He’s approach for parameter initialization. The black line indicates the original He’s approach with scaling factors α = β = 1, while the red line represents the modified approach, which involves tuning the scaling factor for each dataset using a grid-search procedure.', 'Deka, B., Nguyen, L. H., and Goulet, J-A. (2023) present a study on heteroscedastic uncertainty quantification in Bayesian neural networks (BNNs) for regression tasks. The research focuses on developing an analytically tractable method to handle varying levels of uncertainty in data, enhancing the reliability and interpretability of BNNs in predictive modeling. The findings are published in Neurocomputing, article number 127183.', 'The text appears to describe a series of graphs showing the log-likelihood over epochs for different datasets: Boston, Concrete, Wine, Energy, Kin8nm, Naval, Power, Protein, and Yacht. Each graph tracks the log-likelihood performance of a model over a specified number of epochs (ranging from 0 to 100). The log-likelihood values vary across datasets, indicating how well the model fits the data over time for each specific dataset.', 'Figure 8 presents the learning curves for TAGI-V under different epoch settings, illustrating the test log-likelihood for small UCI regression datasets. The optimal epoch, determined using an early-stopping procedure, is marked by a black dotted line. This figure is part of the study by Deka, Nguyen, and Goulet (2023) on analytically tractable heteroscedastic uncertainty quantification in Bayesian neural networks for regression tasks, published in Neurocomputing.', 'Appendix E presents plots that illustrate the maximum test log-likelihood and minimum test RMSE (Root Mean Square Error) across different epochs and time settings for various models and datasets. The models compared include aTAGLV, TAGI, oPBP, 4MC-dropout, Ensemble, eDVI, and NN. The datasets used in the plots are Boston, Concrete, Wine, Kin8nm, Naval, Energy, Power, Protein, and Yacht. Each subplot corresponds to a specific dataset and shows the performance of the models over 100 epochs.', 'Figure 9 presents a comparison of the maximum test log-likelihood values achieved by different models across various datasets: Boston, Concrete, Wine, Kin8nm, Naval, Energy, Power, Protein, and Yacht. The horizontal axis represents the total number of epochs (100), while the vertical axis indicates the test log-likelihood values. The models compared include TAGI-V, deterministic neural networks (NN), Ensemble, and TAGI, with their respective performance marked on the graph.', \"In their 2023 article published in Neurocomputing, Deka, Nguyen, and Goulet present a method for analytically tractable heteroscedastic uncertainty quantification in Bayesian neural networks (BNNs) specifically for regression tasks. The authors address the challenge of modeling varying levels of uncertainty in data (heteroscedasticity) and propose a solution that enhances the interpretability and reliability of BNNs in predicting outcomes with varying uncertainty levels. The study's findings contribute to the field by providing a more robust framework for uncertainty quantification in regression models.\", 'The text appears to describe the performance of different models or methods across various datasets over multiple epochs. The datasets mentioned include Boston, Concrete, Kin8nm, Naval, Power, Protein, Wine, Energy, and Yacht. The performance metrics, such as RMSE (Root Mean Square Error), are plotted against the number of epochs (ranging from 0 to 100) for each dataset. The models or methods compared include aTAGILV, +TAGI, oPBP, 4sMC-dropout, eEnsemble, and others. The plots indicate how the error metrics evolve as the training progresses for each dataset and method.', 'Figure 10 presents a comparison of the minimum test root mean square error (RMSE) values achieved by different models across various datasets: Boston, Concrete, Wine, Kin8nm, Naval, Energy, Power, Protein, and Yacht. The horizontal axis represents the total number of epochs (set at 100), while the vertical axis indicates the test RMSE values. The models compared include TAGI-V, deterministic neural networks (NN), Ensemble, and TAGI, with their respective performance marked on the graph.', 'Deka, B., Nguyen, L. H., and Goulet, J-A. (2023) present a study on heteroscedastic uncertainty quantification in Bayesian neural networks (BNNs) for regression tasks. The research focuses on developing an analytically tractable method to handle varying levels of uncertainty in data, which is crucial for improving the reliability and interpretability of BNNs in predictive modeling. The findings are published in the journal Neurocomputing, article number 127183.', 'The text appears to describe a comparison of various machine learning models and techniques, such as PCA+ESS, ePCA+VI, SWAG, TAGI-V, TAGI-V2L, PBP, MC-dropout, PBP-MV, VMG, Ensemble, and DVI, across different datasets: Concrete, Wine, Kin8nm, Naval, Power, and Protein. The performance of these models is likely being evaluated over time, as indicated by the x-axis labeled \"time (s)\" in the graphs for each dataset. The y-axis seems to represent some performance metric, possibly accuracy or error rate, with different symbols and lines representing the various models. The summary suggests that the study is focused on understanding how these models perform over time on different datasets.', 'Figure 11 presents a comparison of the maximum test log-likelihood values achieved by various existing baseline methods across different datasets: a) Concrete, b) Wine, c) Kin8nm, d) Naval, e) Power, and f) Protein. The horizontal axis shows the training time in seconds on a logarithmic scale (base 10), while the vertical axis displays the test log-likelihood values on a linear scale. The methods compared include TAGI-V, PBP [12], MC-dropout [5], DVI [34], deterministic NN [26], and Ensemble. Each method is represented by a distinct marker on the graph.', 'The text lists various machine learning models and methods, including TAGI, TAGI-V 2L (a two-layer TAGI-V network with 100 hidden nodes), PBP-MV, VMG, SWAG, and two subspace inference methods: PCA+ESS and PCA+VI. Each method is referenced with a corresponding citation.', 'Deka, B., Nguyen, L. H., and Goulet, J-A. (2023) present a study on heteroscedastic uncertainty quantification in Bayesian neural networks (BNNs) for regression tasks. The research focuses on developing an analytically tractable method to handle varying levels of uncertainty in data, enhancing the reliability and interpretability of BNNs in predictive modeling. The findings are published in the journal Neurocomputing, article number 127183.', \"The text appears to describe a comparison of various machine learning models and techniques over time, as illustrated by performance graphs for different datasets: Concrete, Wine, Kin8nm, and Naval. The models compared include PCA+ESS, ePCA+VI, SWAG, mTAGLV, TAGLV2L, TAGI, PBP, MC-dropout, PBP-MV, VMG, Ensemble, and DVI. The performance metrics are plotted against time (in seconds) for each dataset, showing how each model's performance evolves. The y-axis likely represents a performance metric such as accuracy or error rate, with different models showing varying levels of performance over time.\", 'The text chunk appears to be a fragment, likely from a list or table, mentioning \"Power\" and \"Protein.\" Without additional context, it\\'s challenging to provide a detailed summary. However, it seems to reference two distinct concepts or variables, possibly within a scientific or nutritional study. \"Power\" could relate to energy output or performance metrics, while \"Protein\" likely pertains to dietary intake or biochemical analysis. Further context would be needed for a more precise summary.', 'Figure 12 presents a comparison of the minimum test root mean square error (RMSE) values achieved by various existing baseline models across different datasets: a) Concrete, b) Wine, c) Kin8nm, d) Naval, e) Power, and f) Protein. The horizontal axis shows the training time in seconds on a logarithmic scale (base 10), while the vertical axis displays the test RMSE values on a linear scale. The models compared include TAGI-V, deterministic neural networks (NN), Ensemble, TAGI, and TAGI-V 2L, with each model represented by distinct markers.', 'The text describes a TAGI-V network with two layers and 100 hidden nodes, and mentions several other methods for comparison: PBP-MV, VMG, SWAG, and two subspace inference methods (PCA+ESS and PCA+VI). Each method is referenced with corresponding citations.', 'Deka, B., Nguyen, L. H., and Goulet, J-A. (2023) present a study on heteroscedastic uncertainty quantification in Bayesian neural networks (BNNs) for regression tasks. The research focuses on developing an analytically tractable method to handle varying levels of uncertainty in data, enhancing the reliability and interpretability of BNNs in predictive modeling. The findings are published in the journal Neurocomputing, article number 127183.', 'Appendix F presents learning curves that illustrate the test log-likelihood and test RMSE (Root Mean Square Error) across different epochs and time settings for various datasets. The datasets include Boston, Concrete, Energy, Kin8nm, Naval, Power, Wine, Yacht, and Protein. The methods compared in these learning curves are TAGLV, PBP, MC-dropout, DVI, Ensemble, and NN. The graphs show the performance of these methods over 100 epochs for each dataset.', 'Figure 13 presents learning curves that depict the test log-likelihood across different epochs. The horizontal axis represents the number of epochs, while the vertical axis indicates the test log-likelihood. The curves are color-coded to represent various models: TAGI-V (red solid line), PBP (blue solid line), MC-dropout (green solid line), DVI (purple solid line), deterministic NN (yellow solid line), Ensemble (black solid line), TAGI (brown dotted line), and TAGI-V 2L (red dotted line).', 'The text describes a neural network architecture consisting of two layers with 100 hidden nodes.', 'Deka, B., Nguyen, L. H., and Goulet, J-A. (2023) present a study on heteroscedastic uncertainty quantification in Bayesian neural networks (BNNs) for regression tasks. The research focuses on developing an analytically tractable method to handle varying levels of uncertainty in data, enhancing the reliability and interpretability of BNNs in predictive modeling. The findings are published in the journal Neurocomputing, article number 127183.', \"The text appears to describe the performance of various machine learning models across different datasets over multiple epochs. The models mentioned include TAGLV, TAGLV 2L, TAGI, PBP, MC-dropout, DVI, Ensemble, and NN. The datasets referenced are Boston, Concrete, Energy, Kin8nm, Naval, Power, Wine, Yacht, and Protein. The performance metrics are likely plotted over epochs, showing how each model's performance evolves with training time.\", 'Figure 14 presents learning curves that illustrate the test RMSE (Root Mean Square Error) across different epochs. The horizontal axis represents the number of epochs, while the vertical axis indicates the test RMSE. The curves correspond to various models: TAGI-V (red solid line), PBP (blue solid line), MC-dropout (green solid line), DVI (purple solid line), deterministic NN (yellow solid line), Ensemble (black solid line), TAGI (brown dotted line), and TAGI-V 2L (red dotted line), which denotes a two-layer TAGI-V network.', 'The text mentions \"100 hidden nodes,\" which likely refers to a neural network architecture. In this context, \"hidden nodes\" are the units in the hidden layers of the network that process inputs from the previous layer and pass the results to the next layer. Having 100 hidden nodes suggests a moderately complex model, potentially balancing computational efficiency and the ability to capture intricate patterns in the data.', 'Deka, B., Nguyen, L. H., and Goulet, J-A. (2023) present a study on heteroscedastic uncertainty quantification in Bayesian neural networks (BNNs) for regression tasks. The research focuses on developing an analytically tractable method to handle varying levels of uncertainty in data, enhancing the reliability and interpretability of BNNs in predictive modeling. The findings are published in the journal Neurocomputing, article number 127183.', 'The text appears to be a comparison of various machine learning models and techniques based on their log-likelihood performance over time across different datasets. The datasets include Boston, Concrete, Energy, Kin8nm, Naval, and Power. The models and techniques compared include PCA+ESS, PCA+VI, SWAG, TAGLV, TAGI-V, TAGI, PBP, MC-dropout, PBP-MV, VMG, Ensemble, DVI, and NN. The performance is measured in terms of log-likelihood over a range of time scales from \\\\(10^{-2}\\\\) to \\\\(10^4\\\\) seconds.', 'The text appears to be a fragment from a research article, likely presenting data in the form of graphs or tables. The numbers and symbols (e.g., 10-2107, 10, 102, 103, 104) suggest logarithmic scales or time series data. The terms \"Wine,\" \"Yacht,\" and \"Protein\" likely refer to different datasets or experimental conditions being analyzed over time. The repeated \"time (s)\" indicates that the data is plotted against time in seconds. The fragment does not provide specific details about the findings or the context of the data, but it suggests a comparative analysis of these three variables over time.', 'Certainly! Please provide the text chunk labeled (h) so I can create a concise summary for you.', 'Figure 15 presents learning curves that illustrate the test log-likelihood over time. The horizontal axis is in log scale (base 10) representing training time in seconds, while the vertical axis is in linear scale showing the test log-likelihood. The curves compare various models: TAGI-V (red solid line), PBP (blue solid line), MC-dropout (green solid line), DVI (purple solid line), deterministic NN (yellow solid line), Ensembles (black solid line), TAGI (brown dotted line), and TAGI-V 2L (red).', 'The text describes a comparison of different machine learning models and methods, specifically a TAGI-V network with two layers and 100 hidden nodes, PBP-MV, VMG, SWAG, and two subspace inference methods (PCA + ESS and PCA + VI). The learning curves for PBP-MV and VMG are sourced from their original article. Each method is represented by a different line style and color in the learning curve plots.', 'Deka, B., Nguyen, L. H., and Goulet, J-A. (2023) present a study on heteroscedastic uncertainty quantification in Bayesian neural networks specifically for regression tasks. Their approach is analytically tractable, meaning it can be handled and solved using analytical methods. The research is published in the journal Neurocomputing, article number 127183.', \"The text appears to be a comparison of various machine learning models and their performance over time on different datasets. The models include PCA+ESS, PCA+VI, SWAG, TAGI-V, TAGI-V 2L, TAGI, PBP, MC-dropout, PBP-MV, VMG, Ensemble, DVI, and NN. The datasets used for comparison are Boston, Concrete, Energy, Kin8nm, Naval, and Power. The performance metrics are likely RMSE (Root Mean Square Error) plotted against time (in seconds). The graphs indicate how each model's performance evolves over time for each dataset.\", 'The text appears to be a fragment from a research article, likely discussing the results of experiments or simulations over time for different datasets or scenarios. The datasets or scenarios mentioned include \"Wine,\" \"Yacht,\" and \"Protein.\" The text includes references to time in seconds (s) and uses scientific notation (e.g., 10°, 10!, 102, 103, 104) to represent different magnitudes of time or other variables. The specific details of the experiments or the context of the data are not provided in this fragment.', 'The learning curves in Figure 16 illustrate the test RMSE (Root Mean Square Error) over training time, with the horizontal axis in log scale and the vertical axis in linear scale. The curves compare various models: TAGI-V (red solid line), PBP (blue solid line), MC-dropout (green solid line), DVI (purple solid line), deterministic NN (yellow solid line), Ensembles (black solid line), TAGI (brown dotted line), and TAGI-V 2L (red dotted line). Each line represents the performance of a different model, showing how test RMSE changes as training progresses.', 'The text describes a comparison of various machine learning models and methods, including a TAGI-V network with two layers and 100 hidden nodes, PBP-MV, VMG, SWAG, and two subspace inference methods (PCA + ESS and PCA + VI). The learning curves for PBP-MV and VMG are sourced from their original research articles.', 'Deka, B., Nguyen, L. H., and Goulet, J-A. (2023) conducted a study on heteroscedastic uncertainty quantification in Bayesian neural networks for regression tasks, published in Neurocomputing. Appendix G includes a comparison of computational time between different approximate inference methods. Table 3 specifically compares the average training time per epoch for these methods, with all experiments performed on a 12-core 3GHz CPU.', 'Appendix H discusses hyperparameter tuning and computational time for large UCI regression datasets. The hyperparameters to be learned include α and β for the modified He’s approach and patience for early stopping. The grid-search for these hyperparameters is conducted over the following values: patience: {3, 5, 10}, α: {0.1, 0.5}, and β: {0.1, 0.01, 0.001, 0.0001}.', 'The text discusses the early-stopping procedure in a grid-search for hyperparameters, where patience is a key hyperparameter. Combinations causing numerical overflow errors are excluded. Table 4 presents the optimal hyperparameters for each dataset, the total average training time, and the average optimal epoch identified via early stopping. A batch size of 10 is generally used, except for the Pol dataset, which uses a batch size of 1 to prevent numerical issues.', 'The computations in the study are performed using the NVIDIA Tesla P40 GPU, which helps in minimizing errors.', 'Deka, B., Nguyen, L. H., and Goulet, J-A. (2023) present a study on heteroscedastic uncertainty quantification in Bayesian neural networks (BNNs) for regression tasks. The research focuses on developing an analytically tractable method to handle varying levels of uncertainty in data, enhancing the reliability and interpretability of BNNs in predictive modeling. The findings are published in Neurocomputing, article number 127183.', 'Table 4 presents the optimized hyperparameters determined through a grid-search procedure for various large UCI datasets. It includes the total training time (in seconds) and the average optimal epoch identified using an early stopping procedure. The parameters α and β are related to the modified He’s approach, while the patience parameter pertains to the early-stopping procedure. The grid-search utilized a validation set created by splitting the original training set with an 80-20 ratio.', 'The references listed include:\\n\\n1. Andrieu et al. (2003) provide an introduction to Markov Chain Monte Carlo (MCMC) methods for machine learning, published in the journal \"Machine Learning.\"\\n2. Chollet (2015) discusses Keras, a deep learning library designed for human usability, available on GitHub.\\n3. Deka et al. (2022) present the Gaussian multiplicative approximation for state-space models, published in \"Structural Control and Health Monitoring.\"', 'The text provides references to three sources:\\n\\n1. Bhargob Deka, Luong Ha Nguyen, and James-A Goulet\\'s work titled \"TAGI-V,\" which is available on GitHub (2022).\\n2. A paper by Yarin Gal and Zoubin Ghahramani from the International Conference on Machine Learning (2016), discussing the use of dropout as a Bayesian approximation to represent model uncertainty in deep learning.\\n3. A book on Bayesian data analysis by Andrew Gelman, John B Carlin, Hall S Stern, David B Dunson, Aki Vehtari, and Donald B Rubin, published by Chapman and Hall/CRC in 2013.', 'The text references several works by James-A Goulet and collaborators, focusing on probabilistic machine learning and Bayesian neural networks. Key publications include:\\n\\n1. A book titled \"Probabilistic Machine Learning for Civil Engineers\" published by MIT Press in 2020.\\n2. A GitHub repository for TAGI (Tractable Approximate Gaussian Inference) created in 2021.\\n3. A research article on TAGI for Bayesian neural networks published in the Journal of Machine Learning Research in 2021.\\n4. A book on matrix variate distributions by Arjun K Gupta and Daya K Nagar, published by Chapman and Hall/CRC in 2018.', 'The text references two research articles. The first, by Kaiming He, Xiangyu Zhang, Shaoqing Ren, and Jian Sun (2015), discusses achieving human-level performance on ImageNet classification using deep learning techniques, presented at the IEEE International Conference on Computer Vision. The second, by Deka, Nguyen, and Goulet (2023), focuses on analytically tractable heteroscedastic uncertainty quantification in Bayesian neural networks for regression tasks, published in Neurocomputing.', 'José Miguel Hernández-Lobato and Ryan Adams introduced a method called Probabilistic Backpropagation for scalable learning of Bayesian neural networks, as detailed in their 2015 paper presented at the International Conference on Machine Learning. They also provided a related resource on GitHub in 2016.', 'The referenced works by Pavel Izmailov, Wesley J. Maddox, Polina Kirichenko, Timur Garipov, Dmitry Vetrov, and Andrew Gordon Wilson focus on \"Subspace Inference for Bayesian Deep Learning.\" The first citation is a paper presented at the Uncertainty in Artificial Intelligence conference in 2020, detailing their research on this topic. The second citation is a 2021 online resource, likely providing additional materials or code related to their research, available on GitHub.', 'The text references two research articles. The first, by Balaji Lakshminarayanan, Alexander Pritzel, and Charles Blundell (2017), discusses a method for predictive uncertainty estimation using deep ensembles, presented at the 31st International Conference on Neural Information Processing Systems. The second, by Christos Louizos and Max Welling (2016), explores structured and efficient variational deep learning with matrix Gaussian posteriors, presented at the International Conference on Machine Learning.', 'The text references two works related to Bayesian uncertainty in deep learning. The first is a 2019 paper by Maddox et al. titled \"A simple baseline for Bayesian uncertainty in deep learning,\" published in the Advances in Neural Information Processing Systems. The second is a 2018 online resource by Mukhoti, Stenetorp, and Gal, available on GitHub, which focuses on experiments related to dropout uncertainty.', 'The text references two research articles. The first, by Jishnu Mukhoti, Pontus Stenetorp, and Yarin Gal (2018), discusses the significance of robust baseline models in Bayesian deep learning. The second, by Iain Murray, Ryan Adams, and David MacKay (2010), introduces elliptical slice sampling, a method presented at the thirteenth international conference on artificial intelligence and statistics.', 'The text references three works related to Bayesian neural networks. The first is a book by Radford M. Neal titled \"Bayesian Learning for Neural Networks,\" published by Springer in 2012. The second is a 2022 journal article by Luong-Ha Nguyen and James-A. Goulet in the Journal of Machine Learning Research, which discusses analytically tractable hidden-states inference in Bayesian neural networks. The third is a 2022 online resource by the same authors, introducing \"cuTAGI,\" a CUDA library designed for Bayesian neural networks with tractable approximate Gaussian inference, available on GitHub.', 'The text references two sources. The first is a 2000 research article by Roland Orre, Anders Lansner, Andrew Bate, and Marie Lindquist, titled \"Bayesian neural networks with confidence estimations applied to data mining,\" published in Computational Statistics & Data Analysis. The second is a 2021 online resource for PyTorch, a popular machine learning library, authored by Chintala Soumith, Paszke Adam, Gross Sam, and Chanan Gregory, available on GitHub.', \"Deka, B., Nguyen, L. H., and Goulet, J-A. (2023) present a study on heteroscedastic uncertainty quantification in Bayesian neural networks specifically for regression tasks. Their approach is analytically tractable, making it a significant contribution to the field. The study is published in Neurocomputing, article number 127183. Additionally, the reference to Herbert E. Rauch, F. Tung, and Charlotte T. Striebel's 1965 paper in the AIAA journal discusses maximum likelihood estimates of linear dynamic systems, indicating foundational work in the area of dynamic system estimation.\", 'The text references two research works. The first, by Carlos Riquelme, George Tucker, and Jasper Snoek (2018), is an empirical comparison of Bayesian deep networks for Thompson sampling, published as an arXiv e-print. The second, by Herbert E. Robbins (1992), discusses an empirical Bayes approach to statistics and is included in the book \"Breakthroughs in Statistics\" by Springer.', 'The text references two significant research articles in the field of machine learning. The first article, authored by Nitish Srivastava et al. (2014), discusses \"Dropout,\" a technique to prevent overfitting in neural networks, published in The Journal of Machine Learning Research. The second article, by Shengyang Sun, Changyou Chen, and Lawrence Carin (2017), explores methods for learning structured weight uncertainty in Bayesian neural networks, presented at the Artificial Intelligence and Statistics conference.', 'The text references two research works. The first is a 2016 paper by Andrew Gordon Wilson, Zhiting Hu, Ruslan Salakhutdinov, and Eric P Xing titled \"Deep Kernel Learning,\" presented at the Artificial Intelligence and Statistics conference. The second is a 2018 work by Anqi Wu, Sebastian Nowozin, Edward Meeds, Richard E Turner, José Miguel Hernández-Lobato, and Alexander L Gaunt on \"Deterministic Variational Inference,\" with additional resources available on GitHub.', 'The referenced work by Anqi Wu et al. (2018) discusses deterministic variational inference methods aimed at enhancing the robustness of Bayesian neural networks. The paper, available as an arXiv e-print, addresses the challenges in Bayesian neural network inference and proposes solutions to improve their reliability and performance.']\n"
     ]
    }
   ],
   "source": [
    "print(text_summaries)"
   ]
  },
  {
   "cell_type": "code",
   "execution_count": 66,
   "metadata": {},
   "outputs": [],
   "source": [
    "# Apply to tables\n",
    "tables = [i.text for i in table_elements]\n",
    "table_summaries = summarize_chain.batch(tables, {\"max_concurrency\": 5})"
   ]
  },
  {
   "cell_type": "code",
   "execution_count": 115,
   "metadata": {},
   "outputs": [
    {
     "name": "stdout",
     "output_type": "stream",
     "text": [
      "['The text appears to present a series of numerical results, likely from a research study involving different datasets or variables. The datasets or variables mentioned include \"Elevators,\" \"KeggD,\" \"KeggU,\" \"Pol,\" and \"Skillcraft.\" Each dataset or variable is associated with a set of values, possibly representing statistical measures such as means and standard deviations. For example, \"Elevators\" has values like −0.319 ± 0.027 and 1.012 ± 0.154, while \"Skillcraft\" has values like −0.981 ± 0.031 and 0.103 ± 0.035. Additionally, \"log-likelihood\" values are provided for some datasets, such as \"KeggD\" with 0.602 ± 0.224 and \"KeggU\" with 3.900 ± 6.003. The context suggests these values are likely used to compare or analyze the performance or characteristics of the datasets or models involved in the study.', 'The text appears to list various datasets (Boston, Concrete, Energy, Kin8nm, Naval, Power, Protein, Wine, Yacht) along with associated parameters (α, β) and numerical values. The parameters α and β have values such as 0.5, 0.1, 0.01, 0.001, and 5, 3, 10, respectively. Additionally, there are numerical values associated with each dataset, ranging from 353.71 to 23299.31. These values likely represent some form of measurement or result related to the datasets.', 'The table presents performance metrics for various machine learning models across different datasets. The models evaluated include TAGI-V, TAGI, MC-Dropout, Deep Ensembles, PBP, PBP-MV, VMG, DVI, SWAG, PCA+ESS, and PCA+VI. The datasets used for evaluation are Boston, Concrete, Energy, Kin8nm, Naval, Power, Protein, Wine, and Yacht. Each cell in the table contains a numerical value representing the performance of a specific model on a particular dataset. Lower values generally indicate better performance. For instance, TAGI-V shows the lowest error on the Boston dataset (0.025), while PCA+VI has the highest error on the Yacht dataset (981.82). The table highlights the variability in model performance across different datasets, suggesting that no single model consistently outperforms others across all datasets.', 'The text appears to be a series of numerical data points, likely representing measurements or results from a research study. The data includes various values, possibly related to different variables or conditions. Specific numbers are given for what could be different categories or time points, with some values repeated or showing a range. The data might be related to scientific measurements, such as concentrations, rates, or other quantifiable metrics. However, without additional context, it is challenging to determine the exact nature or significance of these numbers.', 'The text provides details on the training parameters and performance metrics for different datasets (Elevators, KeggD, KeggU, Pol, Skillcraft). It includes values for α, β, and patience, as well as the total training time in seconds and the optimal epoch for each dataset. The training times range from 177 seconds (Skillcraft) to 10521 seconds (KeggU), and the optimal epochs vary from 10 to 30.']\n"
     ]
    }
   ],
   "source": [
    "print(table_summaries)"
   ]
  },
  {
   "cell_type": "code",
   "execution_count": 67,
   "metadata": {},
   "outputs": [],
   "source": [
    "## getting image summaries\n",
    "import base64\n",
    "import os\n",
    "\n",
    "from langchain_core.messages import HumanMessage\n",
    "\n",
    "\n",
    "def encode_image(image_path):\n",
    "    \"\"\"Getting the base64 string\"\"\"\n",
    "    with open(image_path, \"rb\") as image_file:\n",
    "        return base64.b64encode(image_file.read()).decode(\"utf-8\")\n",
    "    \n",
    "\n",
    "def image_summarize(img_base64, prompt):\n",
    "    \"\"\"Make image summary\"\"\"\n",
    "    chat = ChatOpenAI(model=\"gpt-4o\", max_tokens=1024)\n",
    "\n",
    "    msg = chat.invoke(\n",
    "        [\n",
    "            HumanMessage(\n",
    "                content=[\n",
    "                    {\"type\": \"text\", \"text\": prompt},\n",
    "                    {\n",
    "                        \"type\": \"image_url\",\n",
    "                        \"image_url\": {\"url\": f\"data:image/jpeg;base64,{img_base64}\"},\n",
    "                    },\n",
    "                ]\n",
    "            )\n",
    "        ]\n",
    "    )\n",
    "    return msg.content\n",
    "\n",
    "\n",
    "def generate_img_summaries(path):\n",
    "    \"\"\"\n",
    "    Generate summaries and base64 encoded strings for images\n",
    "    path: Path to list of .jpg files extracted by Unstructured\n",
    "    \"\"\"\n",
    "\n",
    "    # Store base64 encoded images\n",
    "    img_base64_list = []\n",
    "\n",
    "    # Store image summaries\n",
    "    image_summaries = []\n",
    "\n",
    "    # Prompt\n",
    "    prompt = \"\"\"You are an assistant tasked with summarizing images for retrieval. \\\n",
    "    These summaries will be embedded and used to retrieve the raw image. \\\n",
    "    Give a concise summary of the image that is well optimized for retrieval.\"\"\"\n",
    "\n",
    "    # Apply to images\n",
    "    for img_file in sorted(os.listdir(path)):\n",
    "        if img_file.endswith(\".jpg\"):\n",
    "            img_path = os.path.join(path, img_file)\n",
    "            base64_image = encode_image(img_path)\n",
    "            img_base64_list.append(base64_image)\n",
    "            image_summaries.append(image_summarize(base64_image, prompt))\n",
    "\n",
    "    return img_base64_list, image_summaries\n",
    "\n",
    "\n",
    "fpath = \"saved_images\"\n",
    "\n",
    "# Image summaries\n",
    "img_base64_list, image_summaries = generate_img_summaries(fpath)\n",
    "\n"
   ]
  },
  {
   "cell_type": "code",
   "execution_count": 12,
   "metadata": {},
   "outputs": [
    {
     "data": {
      "text/plain": [
       "['Comparison plots of machine learning models showing log-likelihood and RMSE against time in seconds for Boston, Energy, and Yacht datasets. Models include PCA+ESS, PCA+VI, MC-dropout, PBP-MV, SWAG, TAGI-V, TAGI-V 2L, TAGI, PBP, VMG, Ensemble, DVI, and NN.',\n",
       " 'Nine line graphs comparing \"He\" and \"Modified He\" initialization methods across different datasets (Boston, Concrete, Energy, Kin8nm, Naval, Power, Protein, Wine, Yacht) with log-likelihood plotted against epochs.',\n",
       " 'Grid of nine line graphs comparing RMSE over epochs for \"He\" (black) and \"Modified He\" (red) across different datasets: Boston, Concrete, Energy, Kin8nm, Naval, Power, Protein, Wine, Yacht.',\n",
       " 'Nine graphs showing Log-likelihood vs. Epoch for different datasets: Boston, Concrete, Wine, Energy, Kin8nm, Naval, Power, Protein, and Yacht. Each graph has a red line representing the log-likelihood trend and a vertical dotted line indicating a specific epoch.',\n",
       " 'Nine-panel grid comparing log-likelihood vs. epoch for various models (TAGI-V, TAGI, PBP, MC-dropout, Ensemble, DVI, NN) on different datasets: a) Boston, b) Concrete, c) Wine, d) Kin8nm, e) Naval, f) Energy, g) Power, h) Protein, i) Yacht. Each panel shows model performance at different epochs (0, 50, 100) using distinct markers.',\n",
       " 'Grid of nine scatter plots showing RMSE vs. Epoch for different datasets: Boston, Concrete, Wine, Kin8nm, Naval, Energy, Power, Protein, Yacht. Multiple models (TAGI-V, TAGI, PBP, MC-dropout, Ensemble, DVI, NN) are compared.',\n",
       " 'Scatter plots comparing log-likelihood versus time (s) for various methods (PCA+ESS, PCA+VI, SWAG, TAGI-V, TAGI-V 2L, +TAGI, PBP, MC-dropout, PBP-MV, VMG, Ensemble, DVI, NN) across six datasets: Concrete, Wine, Kin8nm, Naval, Power, and Protein. Each plot includes a legend identifying methods by different symbols and colors.',\n",
       " 'Scatter plots comparing RMSE against time for different algorithms on six datasets: Concrete, Wine, Kin8nm, Naval, Power, and Protein. Various algorithms are represented by distinct markers and colors.',\n",
       " 'Comparison of log-likelihood vs. epoch graphs for various models (TAGI-V, TAGI-V 2L, TAGI, PBP, MC-dropout, DVI, Ensemble, NN) across different datasets (Boston, Concrete, Energy, Kin8nm, Naval, Power, Wine, Yacht, Protein).',\n",
       " 'Nine line graphs comparing RMSE over epochs for various datasets: Boston, Concrete, Energy, Kin8nm, Naval, Power, Wine, Yacht, and Protein. Methods compared include TAGI-V, TAGI-V 2L, TAGI, PBP, MC-dropout, DVI, Ensemble, and NN.',\n",
       " 'Multiple line graphs comparing log-likelihood over time for various methods (PCA+ESS, PCA+VI, SWAG, TAGI-V, TAGI-V 2L, MC-dropout, PBP-MV, VMG, Ensemble, DVI, TAGI, PBP, NN) on different datasets: Boston, Concrete, Energy, Kin8nm, Naval, Power, Wine, Yacht, Protein.',\n",
       " 'Graphical comparison of RMSE over time for various datasets (Boston, Concrete, Energy, Kin8nm, Naval, Power, Wine, Yacht, Protein) and methods (PCA+ESS, PCA+VI, SWAG, TAGI-V, TAGI-V 2L, MC-dropout, PBP-MV, VMG, Ensemble, DVI, TAGI, PBP, NN).',\n",
       " 'Diagram of a flowchart with three green circles labeled V^2, V^2, and V, with arrows indicating direction, and two arrows entering the first circle labeled with fractions involving μ, σ^2, and V^2.',\n",
       " 'Comparative analysis of predictive models: TAGI-V, TAGI, deterministic NN, and DVI, with scatter plots showing predictions and uncertainty (green shaded areas) against true values (black lines) on the y-axis and input variable x. Includes a learning curve graph depicting log-likelihood over epochs with a vertical line at epoch 28.',\n",
       " 'Table comparing log-likelihood and RMSE metrics across five datasets (Elevators, KeggD, KeggU, Pol, Skillcraft) for five methods (TAGI-V, PCA + VI (SI), SWAG, NL, SGD). Key results are highlighted in orange.',\n",
       " 'Table displaying datasets with corresponding parameters: alpha (α), beta (β), patience, and total time in seconds. Datasets include Boston, Concrete, Energy, Kin8nm, Naval, Power, Protein, Wine, and Yacht. Total time ranges from 353.71 to 23299.31 seconds.',\n",
       " 'Table comparing various datasets (Boston, Concrete, Energy, Kin8nm, Naval, Power, Protein, Wine, Yacht) across multiple methods (TAGI-V, TAGI, MC-Dropout, Deep Ensembles, PBP, PBP-MV, VMG, DVI, SWAG, PCA+ESS, PCA+VI, NN) with corresponding values.',\n",
       " 'Table summarizing datasets including Elevators, KeggD, KeggU, Pol, and Skillcraft with parameters α, β, Patience, Total Training Time (s), and Optimal Epoch.']"
      ]
     },
     "execution_count": 12,
     "metadata": {},
     "output_type": "execute_result"
    }
   ],
   "source": [
    "image_summaries"
   ]
  },
  {
   "cell_type": "code",
   "execution_count": 74,
   "metadata": {},
   "outputs": [],
   "source": [
    "import uuid\n",
    "\n",
    "from langchain.retrievers.multi_vector import MultiVectorRetriever\n",
    "from langchain.storage import InMemoryStore\n",
    "from langchain_chroma import Chroma\n",
    "from langchain_core.documents import Document\n",
    "from langchain_openai import OpenAIEmbeddings\n",
    "\n",
    "def create_multi_vector_retriever(\n",
    "    vectorstore, text_summaries, texts, table_summaries, tables, image_summaries, images):\n",
    "    \"\"\"\n",
    "    Create retriever that indexes summaries, but returns raw images, table, or texts\n",
    "    \"\"\"\n",
    "\n",
    "    # Initialize the storage layer\n",
    "    store = InMemoryStore()\n",
    "    id_key = \"doc_id\"\n",
    "\n",
    "    # Create the multi-vector retriever\n",
    "    retriever = MultiVectorRetriever(\n",
    "        vectorstore=vectorstore,\n",
    "        docstore=store,\n",
    "        id_key=id_key,\n",
    "        search_kwargs={\"k\": 2}  # Limit to top 5 results\n",
    "    )\n",
    "\n",
    "    # Helper function to add documents to the vectorstore and docstore\n",
    "    def add_documents(retriever, doc_summaries, doc_contents):\n",
    "        doc_ids = [str(uuid.uuid4()) for _ in doc_contents]\n",
    "        summary_docs = [\n",
    "            Document(page_content=s, metadata={id_key: doc_ids[i]})\n",
    "            for i, s in enumerate(doc_summaries)\n",
    "        ]\n",
    "        retriever.vectorstore.add_documents(summary_docs)\n",
    "        retriever.docstore.mset(list(zip(doc_ids, doc_contents)))\n",
    "\n",
    "    # Add texts, tables, and images\n",
    "    # Check that text_summaries is not empty before adding\n",
    "    if text_summaries:\n",
    "        add_documents(retriever, text_summaries, texts)\n",
    "    # # Check that table_summaries is not empty before adding\n",
    "    if table_summaries:\n",
    "        add_documents(retriever, table_summaries, tables)\n",
    "    # Check that image_summaries is not empty before adding\n",
    "    if image_summaries:\n",
    "        add_documents(retriever, image_summaries, images)\n",
    "\n",
    "    return retriever\n",
    "\n"
   ]
  },
  {
   "cell_type": "code",
   "execution_count": 75,
   "metadata": {},
   "outputs": [],
   "source": [
    "# The vectorstore to use to index the summaries\n",
    "vectorstore = Chroma(\n",
    "    collection_name=\"mm_tagiv_paper\", embedding_function=OpenAIEmbeddings()\n",
    ")\n",
    "\n",
    "# Create retriever\n",
    "retriever_multi_vector_img = create_multi_vector_retriever(\n",
    "    vectorstore,\n",
    "    text_summaries,\n",
    "    texts,\n",
    "    table_summaries,\n",
    "    tables,\n",
    "    image_summaries,\n",
    "    img_base64_list,\n",
    ")"
   ]
  },
  {
   "cell_type": "code",
   "execution_count": 34,
   "metadata": {},
   "outputs": [
    {
     "data": {
      "text/plain": [
       "['TAGI-V are averaged over 3 random seeds. The test log-likelihood values show that TAGI-V performs better than all other methods in 4 out of the 5 datasets. The TAGI-V method is also competitive for RMSE values where it provides the best results in 2 out of the 5 datasets, i.e., Elevators and KeggD, while it is second best for KeggU and Pol. Both PCA+ VI and NL outperform the others in two datasets.']"
      ]
     },
     "execution_count": 34,
     "metadata": {},
     "output_type": "execute_result"
    }
   ],
   "source": [
    "## check relevant documents from this retriever\n",
    "\n",
    "retriever_multi_vector_img.invoke(\"How is the performance of TAGI-V for the Boston dataset compared to the other methods?\")"
   ]
  },
  {
   "cell_type": "code",
   "execution_count": 79,
   "metadata": {},
   "outputs": [],
   "source": [
    "import io\n",
    "import re\n",
    "\n",
    "from IPython.display import HTML, display\n",
    "from langchain_core.runnables import RunnableLambda, RunnablePassthrough, RunnableParallel\n",
    "from PIL import Image\n",
    "from langchain.memory import ConversationBufferMemory\n",
    "\n",
    "\n",
    "def plt_img_base64(img_base64):\n",
    "    \"\"\"Display base64 encoded string as image\"\"\"\n",
    "    # Create an HTML img tag with the base64 string as the source\n",
    "    image_html = f'<img src=\"data:image/jpg;base64,{img_base64}\" />'\n",
    "    # Display the image by rendering the HTML\n",
    "    display(HTML(image_html))\n",
    "\n",
    "\n",
    "def looks_like_base64(sb):\n",
    "    \"\"\"Check if the string looks like base64\"\"\"\n",
    "    return re.match(\"^[A-Za-z0-9+/]+[=]{0,2}$\", sb) is not None\n",
    "\n",
    "\n",
    "def is_image_data(b64data):\n",
    "    \"\"\"\n",
    "    Check if the base64 data is an image by looking at the start of the data\n",
    "    \"\"\"\n",
    "    image_signatures = {\n",
    "        b\"\\xff\\xd8\\xff\": \"jpg\",\n",
    "        b\"\\x89\\x50\\x4e\\x47\\x0d\\x0a\\x1a\\x0a\": \"png\",\n",
    "        b\"\\x47\\x49\\x46\\x38\": \"gif\",\n",
    "        b\"\\x52\\x49\\x46\\x46\": \"webp\",\n",
    "    }\n",
    "    try:\n",
    "        header = base64.b64decode(b64data)[:8]  # Decode and get the first 8 bytes\n",
    "        for sig, format in image_signatures.items():\n",
    "            if header.startswith(sig):\n",
    "                return True\n",
    "        return False\n",
    "    except Exception:\n",
    "        return False\n",
    "\n",
    "\n",
    "def resize_base64_image(base64_string, size=(128, 128)):\n",
    "    \"\"\"\n",
    "    Resize an image encoded as a Base64 string\n",
    "    \"\"\"\n",
    "    # Decode the Base64 string\n",
    "    img_data = base64.b64decode(base64_string)\n",
    "    img = Image.open(io.BytesIO(img_data))\n",
    "\n",
    "    # Resize the image\n",
    "    resized_img = img.resize(size, Image.LANCZOS)\n",
    "\n",
    "    # Save the resized image to a bytes buffer\n",
    "    buffered = io.BytesIO()\n",
    "    resized_img.save(buffered, format=img.format)\n",
    "\n",
    "    # Encode the resized image to Base64\n",
    "    return base64.b64encode(buffered.getvalue()).decode(\"utf-8\")\n",
    "\n",
    "\n",
    "def split_image_text_types(docs):\n",
    "    \"\"\"\n",
    "    Split base64-encoded images and texts\n",
    "    \"\"\"\n",
    "    b64_images = []\n",
    "    texts = []\n",
    "    for doc in docs:\n",
    "        # Check if the document is of type Document and extract page_content if so\n",
    "        if isinstance(doc, Document):\n",
    "            doc = doc.page_content\n",
    "        if looks_like_base64(doc) and is_image_data(doc):\n",
    "            doc = resize_base64_image(doc, size=(1300, 600))\n",
    "            b64_images.append(doc)\n",
    "        else:\n",
    "            texts.append(doc)\n",
    "    return {\"images\": b64_images, \"texts\": texts}\n",
    "\n",
    "\n",
    "def img_prompt_func(data_dict):\n",
    "    \"\"\"\n",
    "    Join the context into a single string\n",
    "    \"\"\"\n",
    "    formatted_texts = \"\\n\".join(data_dict[\"context\"][\"texts\"])\n",
    "    messages = []\n",
    "\n",
    "    # Adding image(s) to the messages if present\n",
    "    if data_dict[\"context\"][\"images\"]:\n",
    "        for image in data_dict[\"context\"][\"images\"]:\n",
    "            image_message = {\n",
    "                \"type\": \"image_url\",\n",
    "                \"image_url\": {\"url\": f\"data:image/jpg;base64,{image}\"},\n",
    "            }\n",
    "            messages.append(image_message)\n",
    "            \n",
    "    # Format chat history\n",
    "    chat_history = data_dict.get(\"chat_history\", [])\n",
    "    formatted_chat_history = \"\\n\".join([f\"{m.type}: {m.content}\" for m in chat_history])\n",
    "\n",
    "    # Adding the text for analysis\n",
    "    text_message = {\n",
    "        \"type\": \"text\",\n",
    "        \"text\": (\n",
    "            \"You are a Research Assistant tasked with answering questions on research articles.\\n\"\n",
    "            \"You will be given a mixed of text, tables, and image(s) usually of tables, charts or graphs.\\n\"\n",
    "            \"Use this information to provide accurate information related to the user question. \\n\"\n",
    "            f\"User-provided question: {data_dict['question']}\\n\\n\"\n",
    "            \"Text and / or tables:\\n\"\n",
    "            f\"{formatted_texts}\"\n",
    "            \"Chat History:\\n\"\n",
    "            f\"{formatted_chat_history}\\n\\n\"\n",
    "        ),\n",
    "    }\n",
    "    messages.append(text_message)\n",
    "    return [HumanMessage(content=messages)]\n",
    "\n",
    "\n",
    "\n",
    "def multi_modal_rag_chain(retriever, memory=None):\n",
    "    \"\"\"\n",
    "    Multi-modal RAG chain\n",
    "    \"\"\"\n",
    "    if memory is None:\n",
    "        memory = ConversationBufferMemory(return_messages=True, memory_key=\"chat_history\")\n",
    "    \n",
    "    # Multi-modal LLM\n",
    "    model = ChatOpenAI(temperature=0, model=\"gpt-4o\", max_tokens=1024)\n",
    "\n",
    "    # RAG pipeline\n",
    "    chain = (\n",
    "        RunnableParallel(\n",
    "            {\n",
    "            \"context\": retriever | RunnableLambda(split_image_text_types),\n",
    "            \"question\": RunnablePassthrough(),\n",
    "            \"chat_history\": lambda x: memory.load_memory_variables({})[\"chat_history\"]\n",
    "        })\n",
    "        | RunnableLambda(img_prompt_func)\n",
    "        | model\n",
    "        | StrOutputParser()\n",
    "    )\n",
    "\n",
    "    def run_chain(query):\n",
    "        result = chain.invoke(query)\n",
    "        memory.save_context({\"input\": query}, {\"output\": result})\n",
    "        return result\n",
    "\n",
    "    return run_chain\n",
    "\n"
   ]
  },
  {
   "cell_type": "code",
   "execution_count": 80,
   "metadata": {},
   "outputs": [],
   "source": [
    "# Create RAG chain\n",
    "chain_mm_rag = multi_modal_rag_chain(retriever=retriever_multi_vector_img)"
   ]
  },
  {
   "cell_type": "code",
   "execution_count": 81,
   "metadata": {},
   "outputs": [
    {
     "name": "stdout",
     "output_type": "stream",
     "text": [
      "To determine the performance of TAGI-V for the Boston dataset compared to other methods, we need to look at the specific metrics provided for this dataset. The text mentions that TAGI-V performs better than all other methods in 4 out of the 5 datasets for test log-likelihood values and is competitive for RMSE values, providing the best results in 2 out of the 5 datasets.\n",
      "\n",
      "However, the text does not explicitly state the performance of TAGI-V on the Boston dataset. To provide a precise answer, we would need the specific test log-likelihood and RMSE values for the Boston dataset for TAGI-V and the other methods.\n",
      "\n",
      "Given the information provided:\n",
      "- TAGI-V is generally strong in test log-likelihood values.\n",
      "- TAGI-V is competitive in RMSE values, being the best in some datasets and second best in others.\n",
      "\n",
      "If the Boston dataset is one of the datasets where TAGI-V is not the best, it might be outperformed by PCA+VI or NL, which are mentioned as top performers in two datasets each.\n",
      "\n",
      "Without the specific values for the Boston dataset, we can infer that TAGI-V is likely competitive but may not be the top performer for this particular dataset. For a definitive comparison, the exact test log-likelihood and RMSE values for the Boston dataset across all methods would be necessary.\n"
     ]
    }
   ],
   "source": [
    "# First Question\n",
    "query = \"How is the performance of TAGI-V for the Boston dataset compared to the other methods?\"\n",
    "print(chain_mm_rag(query))"
   ]
  },
  {
   "cell_type": "code",
   "execution_count": 90,
   "metadata": {},
   "outputs": [
    {
     "name": "stderr",
     "output_type": "stream",
     "text": [
      "Exception in thread Thread-467 (run):\n",
      "Traceback (most recent call last):\n",
      "  File \"/opt/homebrew/Cellar/python@3.10/3.10.14_1/Frameworks/Python.framework/Versions/3.10/lib/python3.10/threading.py\", line 1016, in _bootstrap_inner\n",
      "    self.run()\n",
      "  File \"/Users/bhargobdeka/Desktop/Projects/RAG/venv/lib/python3.10/site-packages/ipykernel/ipkernel.py\", line 766, in run_closure\n",
      "    _threading_Thread_run(self)\n",
      "  File \"/opt/homebrew/Cellar/python@3.10/3.10.14_1/Frameworks/Python.framework/Versions/3.10/lib/python3.10/threading.py\", line 953, in run\n",
      "    self._target(*self._args, **self._kwargs)\n",
      "  File \"/Users/bhargobdeka/Desktop/Projects/RAG/venv/lib/python3.10/site-packages/uvicorn/server.py\", line 65, in run\n",
      "    return asyncio.run(self.serve(sockets=sockets))\n",
      "  File \"/Users/bhargobdeka/Desktop/Projects/RAG/venv/lib/python3.10/site-packages/nest_asyncio.py\", line 26, in run\n",
      "    loop = asyncio.get_event_loop()\n",
      "  File \"/Users/bhargobdeka/Desktop/Projects/RAG/venv/lib/python3.10/site-packages/nest_asyncio.py\", line 40, in _get_event_loop\n",
      "    loop = events.get_event_loop_policy().get_event_loop()\n",
      "  File \"/Users/bhargobdeka/Desktop/Projects/RAG/venv/lib/python3.10/site-packages/nest_asyncio.py\", line 67, in get_event_loop\n",
      "    _patch_loop(loop)\n",
      "  File \"/Users/bhargobdeka/Desktop/Projects/RAG/venv/lib/python3.10/site-packages/nest_asyncio.py\", line 193, in _patch_loop\n",
      "    raise ValueError('Can\\'t patch loop of type %s' % type(loop))\n",
      "ValueError: Can't patch loop of type <class 'uvloop.Loop'>\n"
     ]
    },
    {
     "ename": "KeyboardInterrupt",
     "evalue": "",
     "output_type": "error",
     "traceback": [
      "\u001b[0;31m---------------------------------------------------------------------------\u001b[0m",
      "\u001b[0;31mKeyboardInterrupt\u001b[0m                         Traceback (most recent call last)",
      "Cell \u001b[0;32mIn[90], line 13\u001b[0m\n\u001b[1;32m      4\u001b[0m demo \u001b[38;5;241m=\u001b[39m gr\u001b[38;5;241m.\u001b[39mInterface(\n\u001b[1;32m      5\u001b[0m     fn\u001b[38;5;241m=\u001b[39mgenerate,\n\u001b[1;32m      6\u001b[0m     inputs\u001b[38;5;241m=\u001b[39mgr\u001b[38;5;241m.\u001b[39mTextbox(label\u001b[38;5;241m=\u001b[39m\u001b[38;5;124m\"\u001b[39m\u001b[38;5;124mQuery\u001b[39m\u001b[38;5;124m\"\u001b[39m),\n\u001b[0;32m   (...)\u001b[0m\n\u001b[1;32m      9\u001b[0m     allow_flagging\u001b[38;5;241m=\u001b[39m\u001b[38;5;124m'\u001b[39m\u001b[38;5;124mnever\u001b[39m\u001b[38;5;124m'\u001b[39m\n\u001b[1;32m     10\u001b[0m )\n\u001b[1;32m     12\u001b[0m \u001b[38;5;66;03m# Launch the demo\u001b[39;00m\n\u001b[0;32m---> 13\u001b[0m \u001b[43mdemo\u001b[49m\u001b[38;5;241;43m.\u001b[39;49m\u001b[43mlaunch\u001b[49m\u001b[43m(\u001b[49m\u001b[43m)\u001b[49m\n",
      "File \u001b[0;32m~/Desktop/Projects/RAG/venv/lib/python3.10/site-packages/gradio/blocks.py:2353\u001b[0m, in \u001b[0;36mBlocks.launch\u001b[0;34m(self, inline, inbrowser, share, debug, max_threads, auth, auth_message, prevent_thread_lock, show_error, server_name, server_port, height, width, favicon_path, ssl_keyfile, ssl_certfile, ssl_keyfile_password, ssl_verify, quiet, show_api, allowed_paths, blocked_paths, root_path, app_kwargs, state_session_capacity, share_server_address, share_server_protocol, auth_dependency, max_file_size, _frontend, enable_monitoring)\u001b[0m\n\u001b[1;32m   2345\u001b[0m \u001b[38;5;28;01melse\u001b[39;00m:\n\u001b[1;32m   2346\u001b[0m     \u001b[38;5;28;01mfrom\u001b[39;00m \u001b[38;5;21;01mgradio\u001b[39;00m \u001b[38;5;28;01mimport\u001b[39;00m http_server\n\u001b[1;32m   2348\u001b[0m     (\n\u001b[1;32m   2349\u001b[0m         server_name,\n\u001b[1;32m   2350\u001b[0m         server_port,\n\u001b[1;32m   2351\u001b[0m         local_url,\n\u001b[1;32m   2352\u001b[0m         server,\n\u001b[0;32m-> 2353\u001b[0m     ) \u001b[38;5;241m=\u001b[39m \u001b[43mhttp_server\u001b[49m\u001b[38;5;241;43m.\u001b[39;49m\u001b[43mstart_server\u001b[49m\u001b[43m(\u001b[49m\n\u001b[1;32m   2354\u001b[0m \u001b[43m        \u001b[49m\u001b[43mapp\u001b[49m\u001b[38;5;241;43m=\u001b[39;49m\u001b[38;5;28;43mself\u001b[39;49m\u001b[38;5;241;43m.\u001b[39;49m\u001b[43mapp\u001b[49m\u001b[43m,\u001b[49m\n\u001b[1;32m   2355\u001b[0m \u001b[43m        \u001b[49m\u001b[43mserver_name\u001b[49m\u001b[38;5;241;43m=\u001b[39;49m\u001b[43mserver_name\u001b[49m\u001b[43m,\u001b[49m\n\u001b[1;32m   2356\u001b[0m \u001b[43m        \u001b[49m\u001b[43mserver_port\u001b[49m\u001b[38;5;241;43m=\u001b[39;49m\u001b[43mserver_port\u001b[49m\u001b[43m,\u001b[49m\n\u001b[1;32m   2357\u001b[0m \u001b[43m        \u001b[49m\u001b[43mssl_keyfile\u001b[49m\u001b[38;5;241;43m=\u001b[39;49m\u001b[43mssl_keyfile\u001b[49m\u001b[43m,\u001b[49m\n\u001b[1;32m   2358\u001b[0m \u001b[43m        \u001b[49m\u001b[43mssl_certfile\u001b[49m\u001b[38;5;241;43m=\u001b[39;49m\u001b[43mssl_certfile\u001b[49m\u001b[43m,\u001b[49m\n\u001b[1;32m   2359\u001b[0m \u001b[43m        \u001b[49m\u001b[43mssl_keyfile_password\u001b[49m\u001b[38;5;241;43m=\u001b[39;49m\u001b[43mssl_keyfile_password\u001b[49m\u001b[43m,\u001b[49m\n\u001b[1;32m   2360\u001b[0m \u001b[43m    \u001b[49m\u001b[43m)\u001b[49m\n\u001b[1;32m   2361\u001b[0m \u001b[38;5;28mself\u001b[39m\u001b[38;5;241m.\u001b[39mserver_name \u001b[38;5;241m=\u001b[39m server_name\n\u001b[1;32m   2362\u001b[0m \u001b[38;5;28mself\u001b[39m\u001b[38;5;241m.\u001b[39mlocal_url \u001b[38;5;241m=\u001b[39m local_url\n",
      "File \u001b[0;32m~/Desktop/Projects/RAG/venv/lib/python3.10/site-packages/gradio/http_server.py:149\u001b[0m, in \u001b[0;36mstart_server\u001b[0;34m(app, server_name, server_port, ssl_keyfile, ssl_certfile, ssl_keyfile_password)\u001b[0m\n\u001b[1;32m    140\u001b[0m         reloader \u001b[38;5;241m=\u001b[39m SourceFileReloader(\n\u001b[1;32m    141\u001b[0m             app\u001b[38;5;241m=\u001b[39mapp,\n\u001b[1;32m    142\u001b[0m             watch_dirs\u001b[38;5;241m=\u001b[39mGRADIO_WATCH_DIRS,\n\u001b[0;32m   (...)\u001b[0m\n\u001b[1;32m    146\u001b[0m             demo_file\u001b[38;5;241m=\u001b[39mGRADIO_WATCH_DEMO_PATH,\n\u001b[1;32m    147\u001b[0m         )\n\u001b[1;32m    148\u001b[0m     server \u001b[38;5;241m=\u001b[39m Server(config\u001b[38;5;241m=\u001b[39mconfig, reloader\u001b[38;5;241m=\u001b[39mreloader)\n\u001b[0;32m--> 149\u001b[0m     \u001b[43mserver\u001b[49m\u001b[38;5;241;43m.\u001b[39;49m\u001b[43mrun_in_thread\u001b[49m\u001b[43m(\u001b[49m\u001b[43m)\u001b[49m\n\u001b[1;32m    150\u001b[0m     \u001b[38;5;28;01mbreak\u001b[39;00m\n\u001b[1;32m    151\u001b[0m \u001b[38;5;28;01mexcept\u001b[39;00m (\u001b[38;5;167;01mOSError\u001b[39;00m, ServerFailedToStartError):\n",
      "File \u001b[0;32m~/Desktop/Projects/RAG/venv/lib/python3.10/site-packages/gradio/http_server.py:57\u001b[0m, in \u001b[0;36mServer.run_in_thread\u001b[0;34m(self)\u001b[0m\n\u001b[1;32m     55\u001b[0m start \u001b[38;5;241m=\u001b[39m time\u001b[38;5;241m.\u001b[39mtime()\n\u001b[1;32m     56\u001b[0m \u001b[38;5;28;01mwhile\u001b[39;00m \u001b[38;5;129;01mnot\u001b[39;00m \u001b[38;5;28mself\u001b[39m\u001b[38;5;241m.\u001b[39mstarted:\n\u001b[0;32m---> 57\u001b[0m     \u001b[43mtime\u001b[49m\u001b[38;5;241;43m.\u001b[39;49m\u001b[43msleep\u001b[49m\u001b[43m(\u001b[49m\u001b[38;5;241;43m1e-3\u001b[39;49m\u001b[43m)\u001b[49m\n\u001b[1;32m     58\u001b[0m     \u001b[38;5;28;01mif\u001b[39;00m time\u001b[38;5;241m.\u001b[39mtime() \u001b[38;5;241m-\u001b[39m start \u001b[38;5;241m>\u001b[39m \u001b[38;5;241m5\u001b[39m:\n\u001b[1;32m     59\u001b[0m         \u001b[38;5;28;01mraise\u001b[39;00m ServerFailedToStartError(\n\u001b[1;32m     60\u001b[0m             \u001b[38;5;124m\"\u001b[39m\u001b[38;5;124mServer failed to start. Please check that the port is available.\u001b[39m\u001b[38;5;124m\"\u001b[39m\n\u001b[1;32m     61\u001b[0m         )\n",
      "\u001b[0;31mKeyboardInterrupt\u001b[0m: "
     ]
    }
   ],
   "source": [
    "\n",
    "demo = gr.Interface(\n",
    "    fn=generate,\n",
    "    inputs=gr.Textbox(label=\"Query\"),\n",
    "    outputs=gr.Textbox(label=\"Response\"),\n",
    "    title=\"chat with TAGI-V\",\n",
    "    allow_flagging='never'\n",
    ")\n",
    "\n",
    "# Launch the demo\n",
    "demo.launch()\n"
   ]
  },
  {
   "cell_type": "code",
   "execution_count": 20,
   "metadata": {},
   "outputs": [
    {
     "name": "stdout",
     "output_type": "stream",
     "text": [
      "To assess the performance of the same method for the Concrete dataset compared to other methods, we can refer to the provided graphs and tables. Here is a detailed analysis:\n",
      "\n",
      "### Performance Metrics:\n",
      "1. **RMSE (Root Mean Square Error)**:\n",
      "   - The RMSE values for the Concrete dataset are depicted in the graphs. The methods compared include PCA+ESS, PCA+VI, SWAG, TAGI-V, TAGI-V2L, TAGI, PBP, MC-dropout, PBP-MV, VMG, Ensemble, DVI, and NN.\n",
      "   - From the graph, it appears that TAGI-V and its variants (TAGI-V2L, TAGI) have competitive RMSE values compared to other methods. The exact RMSE values are not explicitly provided in the text, but the visual representation indicates that TAGI-V performs well.\n",
      "\n",
      "2. **Training Time**:\n",
      "   - The training time for the Concrete dataset is shown in the time (s) vs. RMSE graph.\n",
      "   - TAGI-V and its variants (TAGI-V2L, TAGI) demonstrate faster training times compared to methods like PCA+ESS, PCA+VI, PBP-MV, and VMG. TAGI-V is significantly faster, approximately 100 times faster than PCA+ESS and PCA+VI, about 10 times faster than PBP, and about 3 times faster than Ensemble.\n",
      "\n",
      "### Comparative Analysis:\n",
      "- **TAGI-V**:\n",
      "  - **RMSE**: TAGI-V shows competitive RMSE values, indicating good predictive performance.\n",
      "  - **Training Time**: TAGI-V is significantly faster in training time compared to most other methods.\n",
      "\n",
      "- **Other Methods**:\n",
      "  - **PCA+ESS and PCA+VI**: These methods have higher RMSE values and longer training times compared to TAGI-V.\n",
      "  - **SWAG, PBP, MC-dropout, PBP-MV, VMG, Ensemble, DVI, NN**: These methods also show higher RMSE values and longer training times compared to TAGI-V.\n",
      "\n",
      "### Summary:\n",
      "TAGI-V demonstrates superior performance for the Concrete dataset in terms of both RMSE and training time. It achieves competitive RMSE values and significantly faster training times compared to other methods. This makes TAGI-V a highly efficient and effective method for the Concrete dataset.\n"
     ]
    }
   ],
   "source": [
    "# Second Question\n",
    "query = \"What is the performance of the same method for the Concrete dataset compared to the other methods?\"\n",
    "print(chain_mm_rag(query))"
   ]
  },
  {
   "cell_type": "code",
   "execution_count": 21,
   "metadata": {},
   "outputs": [],
   "source": [
    "# Check retrieval\n",
    "query = \"How is the performance of He compared to modified He for the various datasets such as Boston, Concrete etc.?\"\n",
    "docs = retriever_multi_vector_img.invoke(query, limit=6)\n"
   ]
  },
  {
   "cell_type": "code",
   "execution_count": 24,
   "metadata": {},
   "outputs": [
    {
     "data": {
      "text/html": [
       "<img src=\"data:image/jpg;base64,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\" />"
      ],
      "text/plain": [
       "<IPython.core.display.HTML object>"
      ]
     },
     "metadata": {},
     "output_type": "display_data"
    }
   ],
   "source": [
    "plt_img_base64(docs[1])\n",
    "# plt_img_base64(docs[0])"
   ]
  },
  {
   "cell_type": "markdown",
   "metadata": {},
   "source": [
    "## Evaluation using DeepEval"
   ]
  },
  {
   "cell_type": "code",
   "execution_count": null,
   "metadata": {},
   "outputs": [],
   "source": [
    "%pip install -q deepeval "
   ]
  },
  {
   "cell_type": "code",
   "execution_count": 38,
   "metadata": {},
   "outputs": [],
   "source": [
    "from deepeval.metrics import FaithfulnessMetric, ContextualRelevancyMetric\n",
    "from deepeval.test_case import LLMTestCase     \n",
    "from deepeval import evaluate"
   ]
  },
  {
   "cell_type": "code",
   "execution_count": 39,
   "metadata": {},
   "outputs": [],
   "source": [
    "# Warning control\n",
    "import warnings\n",
    "warnings.filterwarnings('ignore')"
   ]
  },
  {
   "cell_type": "code",
   "execution_count": 42,
   "metadata": {},
   "outputs": [],
   "source": [
    "query = \"How is the performance of He compared to modified He for the various datasets such as Boston, Concrete etc.?\"\n",
    "retrieval_context = retriever_multi_vector_img.invoke(query, limit=6)\n",
    "\n",
    "# print(retrieval_context)\n",
    "\n",
    "actual_output = chain_mm_rag(query)\n"
   ]
  },
  {
   "cell_type": "code",
   "execution_count": 43,
   "metadata": {},
   "outputs": [
    {
     "data": {
      "text/html": [
       "<pre style=\"white-space:pre;overflow-x:auto;line-height:normal;font-family:Menlo,'DejaVu Sans Mono',consolas,'Courier New',monospace\">Event loop is already running. Applying nest_asyncio patch to allow async execution...\n",
       "</pre>\n"
      ],
      "text/plain": [
       "Event loop is already running. Applying nest_asyncio patch to allow async execution...\n"
      ]
     },
     "metadata": {},
     "output_type": "display_data"
    },
    {
     "data": {
      "text/html": [
       "<pre style=\"white-space:pre;overflow-x:auto;line-height:normal;font-family:Menlo,'DejaVu Sans Mono',consolas,'Courier New',monospace\"></pre>\n"
      ],
      "text/plain": []
     },
     "metadata": {},
     "output_type": "display_data"
    },
    {
     "data": {
      "text/html": [
       "<pre style=\"white-space:pre;overflow-x:auto;line-height:normal;font-family:Menlo,'DejaVu Sans Mono',consolas,'Courier New',monospace\">\n",
       "</pre>\n"
      ],
      "text/plain": [
       "\n"
      ]
     },
     "metadata": {},
     "output_type": "display_data"
    },
    {
     "name": "stdout",
     "output_type": "stream",
     "text": [
      "1.0\n",
      "The score is 1.00 because there are no contradictions. Great job on ensuring complete alignment with the retrieval context!\n",
      "Evaluating test cases...\n",
      "Event loop is already running. Applying nest_asyncio patch to allow async execution...\n"
     ]
    },
    {
     "data": {
      "text/html": [
       "<pre style=\"white-space:pre;overflow-x:auto;line-height:normal;font-family:Menlo,'DejaVu Sans Mono',consolas,'Courier New',monospace\"></pre>\n"
      ],
      "text/plain": []
     },
     "metadata": {},
     "output_type": "display_data"
    },
    {
     "data": {
      "text/html": [
       "<pre style=\"white-space:pre;overflow-x:auto;line-height:normal;font-family:Menlo,'DejaVu Sans Mono',consolas,'Courier New',monospace\">\n",
       "</pre>\n"
      ],
      "text/plain": [
       "\n"
      ]
     },
     "metadata": {},
     "output_type": "display_data"
    },
    {
     "name": "stdout",
     "output_type": "stream",
     "text": [
      "\n",
      "======================================================================\n",
      "\n",
      "Metrics Summary\n",
      "\n",
      "  - ✅ Faithfulness (score: 1.0, threshold: 0.7, strict: False, evaluation model: gpt-4o, reason: The score is 1.00 because there are no contradictions. Great job staying faithful to the retrieval context!, error: None)\n",
      "\n",
      "For test case:\n",
      "\n",
      "  - input: How is the performance of He compared to modified He for the various datasets such as Boston, Concrete etc.?\n",
      "  - actual output: To compare the performance of He and Modified He across various datasets such as Boston, Concrete, etc., we can analyze the provided graphs that show the performance metrics over epochs for each dataset.\n",
      "\n",
      "### Performance Comparison:\n",
      "\n",
      "1. **Boston Dataset:**\n",
      "   - **He:** The performance metric starts around 0.14 and decreases to approximately 0.08 by the 100th epoch.\n",
      "   - **Modified He:** The performance metric starts around 0.12 and decreases to approximately 0.06 by the 100th epoch.\n",
      "   - **Observation:** Modified He shows a better performance as it achieves a lower value faster and maintains it.\n",
      "\n",
      "2. **Concrete Dataset:**\n",
      "   - **He:** The performance metric starts around 4.9 and decreases to approximately 4.5 by the 100th epoch.\n",
      "   - **Modified He:** The performance metric starts around 4.8 and decreases to approximately 4.4 by the 100th epoch.\n",
      "   - **Observation:** Modified He performs slightly better, achieving a lower value than He.\n",
      "\n",
      "3. **Energy Dataset:**\n",
      "   - **He:** The performance metric starts around 2.0 and decreases to approximately 1.5 by the 100th epoch.\n",
      "   - **Modified He:** The performance metric starts around 1.8 and decreases to approximately 1.4 by the 100th epoch.\n",
      "   - **Observation:** Modified He shows a marginally better performance.\n",
      "\n",
      "4. **Kin8nm Dataset:**\n",
      "   - **He:** The performance metric starts around 0.14 and decreases to approximately 0.08 by the 100th epoch.\n",
      "   - **Modified He:** The performance metric starts around 0.12 and decreases to approximately 0.06 by the 100th epoch.\n",
      "   - **Observation:** Modified He performs better, achieving a lower value.\n",
      "\n",
      "5. **Naval Dataset:**\n",
      "   - **He:** The performance metric starts around 0.68 and decreases to approximately 0.62 by the 100th epoch.\n",
      "   - **Modified He:** The performance metric starts around 0.66 and decreases to approximately 0.60 by the 100th epoch.\n",
      "   - **Observation:** Modified He shows a better performance.\n",
      "\n",
      "6. **Power Dataset:**\n",
      "   - **He:** The performance metric starts around 4.9 and decreases to approximately 4.5 by the 100th epoch.\n",
      "   - **Modified He:** The performance metric starts around 4.8 and decreases to approximately 4.4 by the 100th epoch.\n",
      "   - **Observation:** Modified He performs slightly better.\n",
      "\n",
      "7. **Protein Dataset:**\n",
      "   - **He:** The performance metric starts around 4.9 and decreases to approximately 4.7 by the 100th epoch.\n",
      "   - **Modified He:** The performance metric starts around 4.8 and decreases to approximately 4.6 by the 100th epoch.\n",
      "   - **Observation:** Modified He shows a marginally better performance.\n",
      "\n",
      "8. **Wine Dataset:**\n",
      "   - **He:** The performance metric starts around 0.68 and decreases to approximately 0.62 by the 100th epoch.\n",
      "   - **Modified He:** The performance metric starts around 0.66 and decreases to approximately 0.60 by the 100th epoch.\n",
      "   - **Observation:** Modified He performs better.\n",
      "\n",
      "9. **Yacht Dataset:**\n",
      "   - **He:** The performance metric starts around 0.68 and decreases to approximately 0.62 by the 100th epoch.\n",
      "   - **Modified He:** The performance metric starts around 0.66 and decreases to approximately 0.60 by the 100th epoch.\n",
      "   - **Observation:** Modified He shows a better performance.\n",
      "\n",
      "### Summary:\n",
      "Across all datasets, Modified He consistently shows better performance compared to He. This is evident from the lower values achieved by Modified He in the performance metrics over the epochs.\n",
      "  - expected output: None\n",
      "  - context: None\n",
      "  - retrieval context: ['4 - He = Modified He n na a Ss x= 3 oo 0 50 100 Epoch (a) Boston 0.14 2 0.12 a = 01 a 0.08 + 0 50 100 Epoch (d) Kin8nm 4.9 m 48 ea] n wn a a = 47 = 4.64 0 50 100 Epoch (g) Protein 8 4 7 m3 a = 6 = 2 5 1} 0 50 100 0 50 100 Epoch Epock (b) Concrete (c) Energy —3 75,10 44 = 5.5 m4 4.5 3.8 4 an 50 100 50 100 Epoch Epocl (c) Naval (f) Power 0.68 2 0.66 m 1.5 a = 0.64 =“ 1 0.62 | 5 0 50 100 50 100 Epoch Epoch (h) Wine (i) Yacht']\n",
      "\n",
      "======================================================================\n",
      "\n",
      "Overall Metric Pass Rates\n",
      "\n",
      "Faithfulness: 100.00% pass rate\n",
      "\n",
      "======================================================================\n",
      "\n"
     ]
    },
    {
     "data": {
      "text/html": [
       "<pre style=\"white-space:pre;overflow-x:auto;line-height:normal;font-family:Menlo,'DejaVu Sans Mono',consolas,'Courier New',monospace\">✅ Tests finished! Run <span style=\"color: #008000; text-decoration-color: #008000\">\"deepeval login\"</span> to view evaluation results on the web.\n",
       "</pre>\n"
      ],
      "text/plain": [
       "✅ Tests finished! Run \u001b[32m\"deepeval login\"\u001b[0m to view evaluation results on the web.\n"
      ]
     },
     "metadata": {},
     "output_type": "display_data"
    },
    {
     "data": {
      "text/plain": [
       "[TestResult(success=True, metrics_metadata=[MetricMetadata(metric='Faithfulness', threshold=0.7, success=True, score=1.0, reason='The score is 1.00 because there are no contradictions. Great job staying faithful to the retrieval context!', strict_mode=False, evaluation_model='gpt-4o', error=None, evaluation_cost=0.03259, verbose_logs='Truths:\\n[]\\n\\nClaims:\\n[\\n    \"To compare the performance of He and Modified He across various datasets such as Boston, Concrete, etc., we can analyze the provided graphs that show the performance metrics over epochs for each dataset.\",\\n    \"For the Boston Dataset, He starts around 0.14 and decreases to approximately 0.08 by the 100th epoch.\",\\n    \"For the Boston Dataset, Modified He starts around 0.12 and decreases to approximately 0.06 by the 100th epoch.\",\\n    \"For the Boston Dataset, Modified He shows a better performance as it achieves a lower value faster and maintains it.\",\\n    \"For the Concrete Dataset, He starts around 4.9 and decreases to approximately 4.5 by the 100th epoch.\",\\n    \"For the Concrete Dataset, Modified He starts around 4.8 and decreases to approximately 4.4 by the 100th epoch.\",\\n    \"For the Concrete Dataset, Modified He performs slightly better, achieving a lower value than He.\",\\n    \"For the Energy Dataset, He starts around 2.0 and decreases to approximately 1.5 by the 100th epoch.\",\\n    \"For the Energy Dataset, Modified He starts around 1.8 and decreases to approximately 1.4 by the 100th epoch.\",\\n    \"For the Energy Dataset, Modified He shows a marginally better performance.\",\\n    \"For the Kin8nm Dataset, He starts around 0.14 and decreases to approximately 0.08 by the 100th epoch.\",\\n    \"For the Kin8nm Dataset, Modified He starts around 0.12 and decreases to approximately 0.06 by the 100th epoch.\",\\n    \"For the Kin8nm Dataset, Modified He performs better, achieving a lower value.\",\\n    \"For the Naval Dataset, He starts around 0.68 and decreases to approximately 0.62 by the 100th epoch.\",\\n    \"For the Naval Dataset, Modified He starts around 0.66 and decreases to approximately 0.60 by the 100th epoch.\",\\n    \"For the Naval Dataset, Modified He shows a better performance.\",\\n    \"For the Power Dataset, He starts around 4.9 and decreases to approximately 4.5 by the 100th epoch.\",\\n    \"For the Power Dataset, Modified He starts around 4.8 and decreases to approximately 4.4 by the 100th epoch.\",\\n    \"For the Power Dataset, Modified He performs slightly better.\",\\n    \"For the Protein Dataset, He starts around 4.9 and decreases to approximately 4.7 by the 100th epoch.\",\\n    \"For the Protein Dataset, Modified He starts around 4.8 and decreases to approximately 4.6 by the 100th epoch.\",\\n    \"For the Protein Dataset, Modified He shows a marginally better performance.\",\\n    \"For the Wine Dataset, He starts around 0.68 and decreases to approximately 0.62 by the 100th epoch.\",\\n    \"For the Wine Dataset, Modified He starts around 0.66 and decreases to approximately 0.60 by the 100th epoch.\",\\n    \"For the Wine Dataset, Modified He performs better.\",\\n    \"For the Yacht Dataset, He starts around 0.68 and decreases to approximately 0.62 by the 100th epoch.\",\\n    \"For the Yacht Dataset, Modified He starts around 0.66 and decreases to approximately 0.60 by the 100th epoch.\",\\n    \"For the Yacht Dataset, Modified He shows a better performance.\",\\n    \"Across all datasets, Modified He consistently shows better performance compared to He.\",\\n    \"This is evident from the lower values achieved by Modified He in the performance metrics over the epochs.\"\\n]\\n\\nVerdicts:\\n[\\n    {\\n        \"verdict\": \"idk\",\\n        \"reason\": null\\n    },\\n    {\\n        \"verdict\": \"idk\",\\n        \"reason\": null\\n    },\\n    {\\n        \"verdict\": \"idk\",\\n        \"reason\": null\\n    },\\n    {\\n        \"verdict\": \"idk\",\\n        \"reason\": null\\n    },\\n    {\\n        \"verdict\": \"idk\",\\n        \"reason\": null\\n    },\\n    {\\n        \"verdict\": \"idk\",\\n        \"reason\": null\\n    },\\n    {\\n        \"verdict\": \"idk\",\\n        \"reason\": null\\n    },\\n    {\\n        \"verdict\": \"idk\",\\n        \"reason\": null\\n    },\\n    {\\n        \"verdict\": \"idk\",\\n        \"reason\": null\\n    },\\n    {\\n        \"verdict\": \"idk\",\\n        \"reason\": null\\n    },\\n    {\\n        \"verdict\": \"idk\",\\n        \"reason\": null\\n    },\\n    {\\n        \"verdict\": \"idk\",\\n        \"reason\": null\\n    },\\n    {\\n        \"verdict\": \"idk\",\\n        \"reason\": null\\n    },\\n    {\\n        \"verdict\": \"idk\",\\n        \"reason\": null\\n    },\\n    {\\n        \"verdict\": \"idk\",\\n        \"reason\": null\\n    },\\n    {\\n        \"verdict\": \"idk\",\\n        \"reason\": null\\n    },\\n    {\\n        \"verdict\": \"idk\",\\n        \"reason\": null\\n    },\\n    {\\n        \"verdict\": \"idk\",\\n        \"reason\": null\\n    },\\n    {\\n        \"verdict\": \"idk\",\\n        \"reason\": null\\n    },\\n    {\\n        \"verdict\": \"idk\",\\n        \"reason\": null\\n    },\\n    {\\n        \"verdict\": \"idk\",\\n        \"reason\": null\\n    },\\n    {\\n        \"verdict\": \"idk\",\\n        \"reason\": null\\n    },\\n    {\\n        \"verdict\": \"idk\",\\n        \"reason\": null\\n    },\\n    {\\n        \"verdict\": \"idk\",\\n        \"reason\": null\\n    },\\n    {\\n        \"verdict\": \"idk\",\\n        \"reason\": null\\n    },\\n    {\\n        \"verdict\": \"idk\",\\n        \"reason\": null\\n    },\\n    {\\n        \"verdict\": \"idk\",\\n        \"reason\": null\\n    },\\n    {\\n        \"verdict\": \"idk\",\\n        \"reason\": null\\n    },\\n    {\\n        \"verdict\": \"idk\",\\n        \"reason\": null\\n    }\\n]')], input='How is the performance of He compared to modified He for the various datasets such as Boston, Concrete etc.?', actual_output='To compare the performance of He and Modified He across various datasets such as Boston, Concrete, etc., we can analyze the provided graphs that show the performance metrics over epochs for each dataset.\\n\\n### Performance Comparison:\\n\\n1. **Boston Dataset:**\\n   - **He:** The performance metric starts around 0.14 and decreases to approximately 0.08 by the 100th epoch.\\n   - **Modified He:** The performance metric starts around 0.12 and decreases to approximately 0.06 by the 100th epoch.\\n   - **Observation:** Modified He shows a better performance as it achieves a lower value faster and maintains it.\\n\\n2. **Concrete Dataset:**\\n   - **He:** The performance metric starts around 4.9 and decreases to approximately 4.5 by the 100th epoch.\\n   - **Modified He:** The performance metric starts around 4.8 and decreases to approximately 4.4 by the 100th epoch.\\n   - **Observation:** Modified He performs slightly better, achieving a lower value than He.\\n\\n3. **Energy Dataset:**\\n   - **He:** The performance metric starts around 2.0 and decreases to approximately 1.5 by the 100th epoch.\\n   - **Modified He:** The performance metric starts around 1.8 and decreases to approximately 1.4 by the 100th epoch.\\n   - **Observation:** Modified He shows a marginally better performance.\\n\\n4. **Kin8nm Dataset:**\\n   - **He:** The performance metric starts around 0.14 and decreases to approximately 0.08 by the 100th epoch.\\n   - **Modified He:** The performance metric starts around 0.12 and decreases to approximately 0.06 by the 100th epoch.\\n   - **Observation:** Modified He performs better, achieving a lower value.\\n\\n5. **Naval Dataset:**\\n   - **He:** The performance metric starts around 0.68 and decreases to approximately 0.62 by the 100th epoch.\\n   - **Modified He:** The performance metric starts around 0.66 and decreases to approximately 0.60 by the 100th epoch.\\n   - **Observation:** Modified He shows a better performance.\\n\\n6. **Power Dataset:**\\n   - **He:** The performance metric starts around 4.9 and decreases to approximately 4.5 by the 100th epoch.\\n   - **Modified He:** The performance metric starts around 4.8 and decreases to approximately 4.4 by the 100th epoch.\\n   - **Observation:** Modified He performs slightly better.\\n\\n7. **Protein Dataset:**\\n   - **He:** The performance metric starts around 4.9 and decreases to approximately 4.7 by the 100th epoch.\\n   - **Modified He:** The performance metric starts around 4.8 and decreases to approximately 4.6 by the 100th epoch.\\n   - **Observation:** Modified He shows a marginally better performance.\\n\\n8. **Wine Dataset:**\\n   - **He:** The performance metric starts around 0.68 and decreases to approximately 0.62 by the 100th epoch.\\n   - **Modified He:** The performance metric starts around 0.66 and decreases to approximately 0.60 by the 100th epoch.\\n   - **Observation:** Modified He performs better.\\n\\n9. **Yacht Dataset:**\\n   - **He:** The performance metric starts around 0.68 and decreases to approximately 0.62 by the 100th epoch.\\n   - **Modified He:** The performance metric starts around 0.66 and decreases to approximately 0.60 by the 100th epoch.\\n   - **Observation:** Modified He shows a better performance.\\n\\n### Summary:\\nAcross all datasets, Modified He consistently shows better performance compared to He. This is evident from the lower values achieved by Modified He in the performance metrics over the epochs.', expected_output=None, context=None, retrieval_context=['4 - He = Modified He n na a Ss x= 3 oo 0 50 100 Epoch (a) Boston 0.14 2 0.12 a = 01 a 0.08 + 0 50 100 Epoch (d) Kin8nm 4.9 m 48 ea] n wn a a = 47 = 4.64 0 50 100 Epoch (g) Protein 8 4 7 m3 a = 6 = 2 5 1} 0 50 100 0 50 100 Epoch Epock (b) Concrete (c) Energy —3 75,10 44 = 5.5 m4 4.5 3.8 4 an 50 100 50 100 Epoch Epocl (c) Naval (f) Power 0.68 2 0.66 m 1.5 a = 0.64 =“ 1 0.62 | 5 0 50 100 50 100 Epoch Epoch (h) Wine (i) Yacht'])]"
      ]
     },
     "execution_count": 43,
     "metadata": {},
     "output_type": "execute_result"
    }
   ],
   "source": [
    "metric = FaithfulnessMetric(\n",
    "    threshold=0.7,\n",
    "    model=\"gpt-4o\",\n",
    "    include_reason=True\n",
    ")\n",
    "test_case = LLMTestCase(\n",
    "    input=query,\n",
    "    actual_output=actual_output,\n",
    "    retrieval_context=retrieval_context\n",
    ")\n",
    "\n",
    "metric.measure(test_case)\n",
    "print(metric.score)\n",
    "print(metric.reason)\n",
    "\n",
    "# or evaluate test cases in bulk\n",
    "evaluate([test_case], [metric])"
   ]
  },
  {
   "cell_type": "code",
   "execution_count": 58,
   "metadata": {},
   "outputs": [],
   "source": [
    "from deepeval.metrics import FaithfulnessMetric, ContextualRelevancyMetric, AnswerRelevancyMetric, HallucinationMetric\n",
    "from deepeval.test_case import LLMTestCase     \n",
    "from deepeval import evaluate\n",
    "\n",
    "## Metric Functions\n",
    "\n",
    "class LLM_Metric:\n",
    "    def __init__(self, query, retrieval_context, actual_output):\n",
    "        self.query = query\n",
    "        self.retrieval_context = retrieval_context\n",
    "        self.actual_output = actual_output\n",
    "\n",
    "    # Faithfulness\n",
    "    def get_faithfulness_metric(self):\n",
    "        metric = FaithfulnessMetric(\n",
    "            threshold=0.7,\n",
    "            model=\"gpt-4o\",\n",
    "            include_reason=True\n",
    "        )\n",
    "        test_case = LLMTestCase(\n",
    "            input=self.query,\n",
    "            actual_output=self.actual_output,\n",
    "            retrieval_context=self.retrieval_context\n",
    "        )\n",
    "\n",
    "        metric.measure(test_case)\n",
    "        return metric.score, metric.reason\n",
    "\n",
    "    # Contextual Relevancy\n",
    "    def get_contextual_relevancy_metric(self):\n",
    "        metric = ContextualRelevancyMetric(\n",
    "            threshold=0.7,\n",
    "            model=\"gpt-4o\",\n",
    "            include_reason=True\n",
    "        )\n",
    "        test_case = LLMTestCase(\n",
    "            input=self.query,\n",
    "            actual_output=self.actual_output,\n",
    "            retrieval_context=self.retrieval_context\n",
    "        )\n",
    "        \n",
    "        metric.measure(test_case)\n",
    "        return metric.score, metric.reason\n",
    "    \n",
    "    # Answer Relevancy\n",
    "    def get_answer_relevancy_metric(self):\n",
    "        metric = AnswerRelevancyMetric(\n",
    "        threshold=0.7,\n",
    "        model=\"gpt-4o\",\n",
    "        include_reason=True\n",
    "        )\n",
    "        test_case = LLMTestCase(\n",
    "            input=self.query,\n",
    "            actual_output=self.actual_output\n",
    "        )\n",
    "        metric.measure(test_case)\n",
    "        return metric.score, metric.reason\n",
    "    \n",
    "    # Hallucination\n",
    "    def get_hallucination_metric(self):\n",
    "        metric = HallucinationMetric(threshold=0.5)\n",
    "        test_case = LLMTestCase(\n",
    "        input=self.query,\n",
    "        actual_output=self.actual_output,\n",
    "        context=self.retrieval_context  \n",
    "        )\n",
    "        metric.measure(test_case)\n",
    "        return metric.score, metric.reason"
   ]
  },
  {
   "cell_type": "code",
   "execution_count": 46,
   "metadata": {},
   "outputs": [
    {
     "data": {
      "text/html": [
       "<pre style=\"white-space:pre;overflow-x:auto;line-height:normal;font-family:Menlo,'DejaVu Sans Mono',consolas,'Courier New',monospace\">Event loop is already running. Applying nest_asyncio patch to allow async execution...\n",
       "</pre>\n"
      ],
      "text/plain": [
       "Event loop is already running. Applying nest_asyncio patch to allow async execution...\n"
      ]
     },
     "metadata": {},
     "output_type": "display_data"
    },
    {
     "data": {
      "text/html": [
       "<pre style=\"white-space:pre;overflow-x:auto;line-height:normal;font-family:Menlo,'DejaVu Sans Mono',consolas,'Courier New',monospace\"></pre>\n"
      ],
      "text/plain": []
     },
     "metadata": {},
     "output_type": "display_data"
    },
    {
     "data": {
      "text/html": [
       "<pre style=\"white-space:pre;overflow-x:auto;line-height:normal;font-family:Menlo,'DejaVu Sans Mono',consolas,'Courier New',monospace\">\n",
       "</pre>\n"
      ],
      "text/plain": [
       "\n"
      ]
     },
     "metadata": {},
     "output_type": "display_data"
    },
    {
     "data": {
      "text/html": [
       "<pre style=\"white-space:pre;overflow-x:auto;line-height:normal;font-family:Menlo,'DejaVu Sans Mono',consolas,'Courier New',monospace\">Event loop is already running. Applying nest_asyncio patch to allow async execution...\n",
       "</pre>\n"
      ],
      "text/plain": [
       "Event loop is already running. Applying nest_asyncio patch to allow async execution...\n"
      ]
     },
     "metadata": {},
     "output_type": "display_data"
    },
    {
     "data": {
      "text/html": [
       "<pre style=\"white-space:pre;overflow-x:auto;line-height:normal;font-family:Menlo,'DejaVu Sans Mono',consolas,'Courier New',monospace\"></pre>\n"
      ],
      "text/plain": []
     },
     "metadata": {},
     "output_type": "display_data"
    },
    {
     "data": {
      "text/html": [
       "<pre style=\"white-space:pre;overflow-x:auto;line-height:normal;font-family:Menlo,'DejaVu Sans Mono',consolas,'Courier New',monospace\">\n",
       "</pre>\n"
      ],
      "text/plain": [
       "\n"
      ]
     },
     "metadata": {},
     "output_type": "display_data"
    }
   ],
   "source": [
    "# Create an instance of LLM_Metric\n",
    "llm_metric = LLM_Metric(query, retrieval_context, actual_output)\n",
    "\n",
    "# Get faithfulness metric\n",
    "faith_score, faith_reason = llm_metric.get_faithfulness_metric()\n",
    "\n",
    "# Get contextual relevancy metric\n",
    "relevancy_score, relevancy_reason = llm_metric.get_contextual_relevancy_metric()"
   ]
  },
  {
   "cell_type": "code",
   "execution_count": 53,
   "metadata": {},
   "outputs": [
    {
     "data": {
      "text/html": [
       "<div>\n",
       "<style scoped>\n",
       "    .dataframe tbody tr th:only-of-type {\n",
       "        vertical-align: middle;\n",
       "    }\n",
       "\n",
       "    .dataframe tbody tr th {\n",
       "        vertical-align: top;\n",
       "    }\n",
       "\n",
       "    .dataframe thead th {\n",
       "        text-align: right;\n",
       "    }\n",
       "</style>\n",
       "<table border=\"1\" class=\"dataframe\">\n",
       "  <thead>\n",
       "    <tr style=\"text-align: right;\">\n",
       "      <th></th>\n",
       "      <th>0</th>\n",
       "    </tr>\n",
       "  </thead>\n",
       "  <tbody>\n",
       "    <tr>\n",
       "      <th>faithfulness</th>\n",
       "      <td>The score is 1.00 because there are no contrad...</td>\n",
       "    </tr>\n",
       "    <tr>\n",
       "      <th>context_relevancy</th>\n",
       "      <td>The score is 1.00 because the input is perfect...</td>\n",
       "    </tr>\n",
       "  </tbody>\n",
       "</table>\n",
       "</div>"
      ],
      "text/plain": [
       "                                                                   0\n",
       "faithfulness       The score is 1.00 because there are no contrad...\n",
       "context_relevancy  The score is 1.00 because the input is perfect..."
      ]
     },
     "execution_count": 53,
     "metadata": {},
     "output_type": "execute_result"
    }
   ],
   "source": [
    "import pandas as pd\n",
    "\n",
    "pd.DataFrame([faith_reason, relevancy_reason], index=['faithfulness','context_relevancy'])"
   ]
  },
  {
   "cell_type": "code",
   "execution_count": 59,
   "metadata": {},
   "outputs": [
    {
     "data": {
      "text/html": [
       "<pre style=\"white-space:pre;overflow-x:auto;line-height:normal;font-family:Menlo,'DejaVu Sans Mono',consolas,'Courier New',monospace\">Event loop is already running. Applying nest_asyncio patch to allow async execution...\n",
       "</pre>\n"
      ],
      "text/plain": [
       "Event loop is already running. Applying nest_asyncio patch to allow async execution...\n"
      ]
     },
     "metadata": {},
     "output_type": "display_data"
    },
    {
     "data": {
      "text/html": [
       "<pre style=\"white-space:pre;overflow-x:auto;line-height:normal;font-family:Menlo,'DejaVu Sans Mono',consolas,'Courier New',monospace\"></pre>\n"
      ],
      "text/plain": []
     },
     "metadata": {},
     "output_type": "display_data"
    },
    {
     "data": {
      "text/html": [
       "<pre style=\"white-space:pre;overflow-x:auto;line-height:normal;font-family:Menlo,'DejaVu Sans Mono',consolas,'Courier New',monospace\">\n",
       "</pre>\n"
      ],
      "text/plain": [
       "\n"
      ]
     },
     "metadata": {},
     "output_type": "display_data"
    },
    {
     "data": {
      "text/html": [
       "<pre style=\"white-space:pre;overflow-x:auto;line-height:normal;font-family:Menlo,'DejaVu Sans Mono',consolas,'Courier New',monospace\"></pre>\n"
      ],
      "text/plain": []
     },
     "metadata": {},
     "output_type": "display_data"
    },
    {
     "data": {
      "text/html": [
       "<pre style=\"white-space:pre;overflow-x:auto;line-height:normal;font-family:Menlo,'DejaVu Sans Mono',consolas,'Courier New',monospace\">\n",
       "</pre>\n"
      ],
      "text/plain": [
       "\n"
      ]
     },
     "metadata": {},
     "output_type": "display_data"
    },
    {
     "name": "stdout",
     "output_type": "stream",
     "text": [
      "answer relevancy score and reason: 1.0 because The score is 1.00 because the answer perfectly addresses the question without any irrelevant statements. Great job!\n"
     ]
    }
   ],
   "source": [
    "\n",
    "# Create an instance of LLM_Metric\n",
    "llm_metric = LLM_Metric(query, retrieval_context, actual_output)\n",
    "\n",
    "# Get answer relevancy metric\n",
    "answer_relevancy_score, answer_relevancy_reason = llm_metric.get_answer_relevancy_metric()\n",
    "\n",
    "# Check Hallucination\n",
    "hallucination_score, hallucination_reason = llm_metric.get_hallucination_metric()\n",
    "\n",
    "print(f\"answer relevancy score and reason: {answer_relevancy_score} because {answer_relevancy_reason}\")"
   ]
  },
  {
   "cell_type": "markdown",
   "metadata": {},
   "source": [
    "## user interface with Gradio"
   ]
  },
  {
   "cell_type": "code",
   "execution_count": 94,
   "metadata": {},
   "outputs": [],
   "source": [
    "def multi_modal_rag_chain(retriever, memory=None):\n",
    "    \"\"\"\n",
    "    Multi-modal RAG chain\n",
    "    \"\"\"\n",
    "    if memory is None:\n",
    "        memory = ConversationBufferMemory(return_messages=True, memory_key=\"chat_history\")\n",
    "    \n",
    "    # Multi-modal LLM\n",
    "    model = ChatOpenAI(temperature=0, model=\"gpt-4o\", max_tokens=1024)\n",
    "\n",
    "    # RAG pipeline\n",
    "    chain = (\n",
    "        RunnableParallel(\n",
    "            {\n",
    "            \"context\": retriever | RunnableLambda(split_image_text_types),\n",
    "            \"question\": RunnablePassthrough(),\n",
    "            \"chat_history\": lambda x: memory.load_memory_variables({})[\"chat_history\"]\n",
    "        })\n",
    "        | RunnableLambda(img_prompt_func)\n",
    "        | model\n",
    "        | StrOutputParser()\n",
    "    )\n",
    "\n",
    "    return chain"
   ]
  },
  {
   "cell_type": "code",
   "execution_count": 95,
   "metadata": {},
   "outputs": [
    {
     "name": "stderr",
     "output_type": "stream",
     "text": [
      "Exception in thread Thread-475 (run):\n",
      "Traceback (most recent call last):\n",
      "  File \"/opt/homebrew/Cellar/python@3.10/3.10.14_1/Frameworks/Python.framework/Versions/3.10/lib/python3.10/threading.py\", line 1016, in _bootstrap_inner\n",
      "    self.run()\n",
      "  File \"/Users/bhargobdeka/Desktop/Projects/RAG/venv/lib/python3.10/site-packages/ipykernel/ipkernel.py\", line 766, in run_closure\n",
      "    _threading_Thread_run(self)\n",
      "  File \"/opt/homebrew/Cellar/python@3.10/3.10.14_1/Frameworks/Python.framework/Versions/3.10/lib/python3.10/threading.py\", line 953, in run\n",
      "    self._target(*self._args, **self._kwargs)\n",
      "  File \"/Users/bhargobdeka/Desktop/Projects/RAG/venv/lib/python3.10/site-packages/uvicorn/server.py\", line 65, in run\n",
      "    return asyncio.run(self.serve(sockets=sockets))\n",
      "  File \"/Users/bhargobdeka/Desktop/Projects/RAG/venv/lib/python3.10/site-packages/nest_asyncio.py\", line 26, in run\n",
      "    \n",
      "  File \"/Users/bhargobdeka/Desktop/Projects/RAG/venv/lib/python3.10/site-packages/nest_asyncio.py\", line 40, in _get_event_loop\n",
      "    if sys.version_info >= (3, 6, 0):\n",
      "  File \"/Users/bhargobdeka/Desktop/Projects/RAG/venv/lib/python3.10/site-packages/nest_asyncio.py\", line 67, in get_event_loop\n",
      "    \n",
      "  File \"/Users/bhargobdeka/Desktop/Projects/RAG/venv/lib/python3.10/site-packages/nest_asyncio.py\", line 193, in _patch_loop\n",
      "    cls._check_runnung = _check_running  # typo in Python 3.7 source\n",
      "ValueError: Can't patch loop of type <class 'uvloop.Loop'>\n",
      "Exception in thread Thread-476 (run):\n",
      "Traceback (most recent call last):\n",
      "  File \"/opt/homebrew/Cellar/python@3.10/3.10.14_1/Frameworks/Python.framework/Versions/3.10/lib/python3.10/threading.py\", line 1016, in _bootstrap_inner\n",
      "    self.run()\n",
      "  File \"/Users/bhargobdeka/Desktop/Projects/RAG/venv/lib/python3.10/site-packages/ipykernel/ipkernel.py\", line 766, in run_closure\n",
      "    _threading_Thread_run(self)\n",
      "  File \"/opt/homebrew/Cellar/python@3.10/3.10.14_1/Frameworks/Python.framework/Versions/3.10/lib/python3.10/threading.py\", line 953, in run\n",
      "    self._target(*self._args, **self._kwargs)\n",
      "  File \"/Users/bhargobdeka/Desktop/Projects/RAG/venv/lib/python3.10/site-packages/uvicorn/server.py\", line 65, in run\n",
      "    return asyncio.run(self.serve(sockets=sockets))\n",
      "  File \"/Users/bhargobdeka/Desktop/Projects/RAG/venv/lib/python3.10/site-packages/nest_asyncio.py\", line 26, in run\n",
      "    \n",
      "  File \"/Users/bhargobdeka/Desktop/Projects/RAG/venv/lib/python3.10/site-packages/nest_asyncio.py\", line 40, in _get_event_loop\n",
      "    if sys.version_info >= (3, 6, 0):\n",
      "  File \"/Users/bhargobdeka/Desktop/Projects/RAG/venv/lib/python3.10/site-packages/nest_asyncio.py\", line 67, in get_event_loop\n",
      "    \n",
      "  File \"/Users/bhargobdeka/Desktop/Projects/RAG/venv/lib/python3.10/site-packages/nest_asyncio.py\", line 193, in _patch_loop\n",
      "    cls._check_runnung = _check_running  # typo in Python 3.7 source\n",
      "ValueError: Can't patch loop of type <class 'uvloop.Loop'>\n",
      "Exception in thread Thread-477 (run):\n",
      "Traceback (most recent call last):\n",
      "  File \"/opt/homebrew/Cellar/python@3.10/3.10.14_1/Frameworks/Python.framework/Versions/3.10/lib/python3.10/threading.py\", line 1016, in _bootstrap_inner\n",
      "    self.run()\n",
      "  File \"/Users/bhargobdeka/Desktop/Projects/RAG/venv/lib/python3.10/site-packages/ipykernel/ipkernel.py\", line 766, in run_closure\n",
      "    _threading_Thread_run(self)\n",
      "  File \"/opt/homebrew/Cellar/python@3.10/3.10.14_1/Frameworks/Python.framework/Versions/3.10/lib/python3.10/threading.py\", line 953, in run\n",
      "    self._target(*self._args, **self._kwargs)\n",
      "  File \"/Users/bhargobdeka/Desktop/Projects/RAG/venv/lib/python3.10/site-packages/uvicorn/server.py\", line 65, in run\n",
      "    return asyncio.run(self.serve(sockets=sockets))\n",
      "  File \"/Users/bhargobdeka/Desktop/Projects/RAG/venv/lib/python3.10/site-packages/nest_asyncio.py\", line 26, in run\n",
      "    \n",
      "  File \"/Users/bhargobdeka/Desktop/Projects/RAG/venv/lib/python3.10/site-packages/nest_asyncio.py\", line 40, in _get_event_loop\n",
      "    if sys.version_info >= (3, 6, 0):\n",
      "  File \"/Users/bhargobdeka/Desktop/Projects/RAG/venv/lib/python3.10/site-packages/nest_asyncio.py\", line 67, in get_event_loop\n",
      "    \n",
      "  File \"/Users/bhargobdeka/Desktop/Projects/RAG/venv/lib/python3.10/site-packages/nest_asyncio.py\", line 193, in _patch_loop\n",
      "    cls._check_runnung = _check_running  # typo in Python 3.7 source\n",
      "ValueError: Can't patch loop of type <class 'uvloop.Loop'>\n"
     ]
    },
    {
     "ename": "KeyboardInterrupt",
     "evalue": "",
     "output_type": "error",
     "traceback": [
      "\u001b[0;31m---------------------------------------------------------------------------\u001b[0m",
      "\u001b[0;31mKeyboardInterrupt\u001b[0m                         Traceback (most recent call last)",
      "Cell \u001b[0;32mIn[95], line 21\u001b[0m\n\u001b[1;32m     11\u001b[0m demo \u001b[38;5;241m=\u001b[39m gr\u001b[38;5;241m.\u001b[39mInterface(\n\u001b[1;32m     12\u001b[0m     fn\u001b[38;5;241m=\u001b[39mgenerate,\n\u001b[1;32m     13\u001b[0m     inputs\u001b[38;5;241m=\u001b[39mgr\u001b[38;5;241m.\u001b[39mTextbox(label\u001b[38;5;241m=\u001b[39m\u001b[38;5;124m\"\u001b[39m\u001b[38;5;124mQuery\u001b[39m\u001b[38;5;124m\"\u001b[39m),\n\u001b[0;32m   (...)\u001b[0m\n\u001b[1;32m     17\u001b[0m     allow_flagging\u001b[38;5;241m=\u001b[39m\u001b[38;5;124m\"\u001b[39m\u001b[38;5;124mnever\u001b[39m\u001b[38;5;124m\"\u001b[39m\n\u001b[1;32m     18\u001b[0m )\n\u001b[1;32m     20\u001b[0m \u001b[38;5;66;03m# launch the demo\u001b[39;00m\n\u001b[0;32m---> 21\u001b[0m \u001b[43mdemo\u001b[49m\u001b[38;5;241;43m.\u001b[39;49m\u001b[43mlaunch\u001b[49m\u001b[43m(\u001b[49m\u001b[43m)\u001b[49m \n",
      "File \u001b[0;32m~/Desktop/Projects/RAG/venv/lib/python3.10/site-packages/gradio/blocks.py:2353\u001b[0m, in \u001b[0;36mBlocks.launch\u001b[0;34m(self, inline, inbrowser, share, debug, max_threads, auth, auth_message, prevent_thread_lock, show_error, server_name, server_port, height, width, favicon_path, ssl_keyfile, ssl_certfile, ssl_keyfile_password, ssl_verify, quiet, show_api, allowed_paths, blocked_paths, root_path, app_kwargs, state_session_capacity, share_server_address, share_server_protocol, auth_dependency, max_file_size, _frontend, enable_monitoring)\u001b[0m\n\u001b[1;32m   2345\u001b[0m \u001b[38;5;28;01melse\u001b[39;00m:\n\u001b[1;32m   2346\u001b[0m     \u001b[38;5;28;01mfrom\u001b[39;00m \u001b[38;5;21;01mgradio\u001b[39;00m \u001b[38;5;28;01mimport\u001b[39;00m http_server\n\u001b[1;32m   2348\u001b[0m     (\n\u001b[1;32m   2349\u001b[0m         server_name,\n\u001b[1;32m   2350\u001b[0m         server_port,\n\u001b[1;32m   2351\u001b[0m         local_url,\n\u001b[1;32m   2352\u001b[0m         server,\n\u001b[0;32m-> 2353\u001b[0m     ) \u001b[38;5;241m=\u001b[39m \u001b[43mhttp_server\u001b[49m\u001b[38;5;241;43m.\u001b[39;49m\u001b[43mstart_server\u001b[49m\u001b[43m(\u001b[49m\n\u001b[1;32m   2354\u001b[0m \u001b[43m        \u001b[49m\u001b[43mapp\u001b[49m\u001b[38;5;241;43m=\u001b[39;49m\u001b[38;5;28;43mself\u001b[39;49m\u001b[38;5;241;43m.\u001b[39;49m\u001b[43mapp\u001b[49m\u001b[43m,\u001b[49m\n\u001b[1;32m   2355\u001b[0m \u001b[43m        \u001b[49m\u001b[43mserver_name\u001b[49m\u001b[38;5;241;43m=\u001b[39;49m\u001b[43mserver_name\u001b[49m\u001b[43m,\u001b[49m\n\u001b[1;32m   2356\u001b[0m \u001b[43m        \u001b[49m\u001b[43mserver_port\u001b[49m\u001b[38;5;241;43m=\u001b[39;49m\u001b[43mserver_port\u001b[49m\u001b[43m,\u001b[49m\n\u001b[1;32m   2357\u001b[0m \u001b[43m        \u001b[49m\u001b[43mssl_keyfile\u001b[49m\u001b[38;5;241;43m=\u001b[39;49m\u001b[43mssl_keyfile\u001b[49m\u001b[43m,\u001b[49m\n\u001b[1;32m   2358\u001b[0m \u001b[43m        \u001b[49m\u001b[43mssl_certfile\u001b[49m\u001b[38;5;241;43m=\u001b[39;49m\u001b[43mssl_certfile\u001b[49m\u001b[43m,\u001b[49m\n\u001b[1;32m   2359\u001b[0m \u001b[43m        \u001b[49m\u001b[43mssl_keyfile_password\u001b[49m\u001b[38;5;241;43m=\u001b[39;49m\u001b[43mssl_keyfile_password\u001b[49m\u001b[43m,\u001b[49m\n\u001b[1;32m   2360\u001b[0m \u001b[43m    \u001b[49m\u001b[43m)\u001b[49m\n\u001b[1;32m   2361\u001b[0m \u001b[38;5;28mself\u001b[39m\u001b[38;5;241m.\u001b[39mserver_name \u001b[38;5;241m=\u001b[39m server_name\n\u001b[1;32m   2362\u001b[0m \u001b[38;5;28mself\u001b[39m\u001b[38;5;241m.\u001b[39mlocal_url \u001b[38;5;241m=\u001b[39m local_url\n",
      "File \u001b[0;32m~/Desktop/Projects/RAG/venv/lib/python3.10/site-packages/gradio/http_server.py:149\u001b[0m, in \u001b[0;36mstart_server\u001b[0;34m(app, server_name, server_port, ssl_keyfile, ssl_certfile, ssl_keyfile_password)\u001b[0m\n\u001b[1;32m    140\u001b[0m         reloader \u001b[38;5;241m=\u001b[39m SourceFileReloader(\n\u001b[1;32m    141\u001b[0m             app\u001b[38;5;241m=\u001b[39mapp,\n\u001b[1;32m    142\u001b[0m             watch_dirs\u001b[38;5;241m=\u001b[39mGRADIO_WATCH_DIRS,\n\u001b[0;32m   (...)\u001b[0m\n\u001b[1;32m    146\u001b[0m             demo_file\u001b[38;5;241m=\u001b[39mGRADIO_WATCH_DEMO_PATH,\n\u001b[1;32m    147\u001b[0m         )\n\u001b[1;32m    148\u001b[0m     server \u001b[38;5;241m=\u001b[39m Server(config\u001b[38;5;241m=\u001b[39mconfig, reloader\u001b[38;5;241m=\u001b[39mreloader)\n\u001b[0;32m--> 149\u001b[0m     \u001b[43mserver\u001b[49m\u001b[38;5;241;43m.\u001b[39;49m\u001b[43mrun_in_thread\u001b[49m\u001b[43m(\u001b[49m\u001b[43m)\u001b[49m\n\u001b[1;32m    150\u001b[0m     \u001b[38;5;28;01mbreak\u001b[39;00m\n\u001b[1;32m    151\u001b[0m \u001b[38;5;28;01mexcept\u001b[39;00m (\u001b[38;5;167;01mOSError\u001b[39;00m, ServerFailedToStartError):\n",
      "File \u001b[0;32m~/Desktop/Projects/RAG/venv/lib/python3.10/site-packages/gradio/http_server.py:57\u001b[0m, in \u001b[0;36mServer.run_in_thread\u001b[0;34m(self)\u001b[0m\n\u001b[1;32m     55\u001b[0m start \u001b[38;5;241m=\u001b[39m time\u001b[38;5;241m.\u001b[39mtime()\n\u001b[1;32m     56\u001b[0m \u001b[38;5;28;01mwhile\u001b[39;00m \u001b[38;5;129;01mnot\u001b[39;00m \u001b[38;5;28mself\u001b[39m\u001b[38;5;241m.\u001b[39mstarted:\n\u001b[0;32m---> 57\u001b[0m     \u001b[43mtime\u001b[49m\u001b[38;5;241;43m.\u001b[39;49m\u001b[43msleep\u001b[49m\u001b[43m(\u001b[49m\u001b[38;5;241;43m1e-3\u001b[39;49m\u001b[43m)\u001b[49m\n\u001b[1;32m     58\u001b[0m     \u001b[38;5;28;01mif\u001b[39;00m time\u001b[38;5;241m.\u001b[39mtime() \u001b[38;5;241m-\u001b[39m start \u001b[38;5;241m>\u001b[39m \u001b[38;5;241m5\u001b[39m:\n\u001b[1;32m     59\u001b[0m         \u001b[38;5;28;01mraise\u001b[39;00m ServerFailedToStartError(\n\u001b[1;32m     60\u001b[0m             \u001b[38;5;124m\"\u001b[39m\u001b[38;5;124mServer failed to start. Please check that the port is available.\u001b[39m\u001b[38;5;124m\"\u001b[39m\n\u001b[1;32m     61\u001b[0m         )\n",
      "\u001b[0;31mKeyboardInterrupt\u001b[0m: "
     ]
    }
   ],
   "source": [
    "import gradio as gr\n",
    "\n",
    "# Create RAG chain\n",
    "def generate(query):\n",
    "    chain_mm_rag = multi_modal_rag_chain(retriever=retriever_multi_vector_img) # retriever_multi_vector_img\n",
    "    # docs = retriever_multi_vector_img.invoke(query, limit=6)\n",
    "    output = chain_mm_rag.invoke(query)\n",
    "    \n",
    "    return output\n",
    "\n",
    "demo = gr.Interface(\n",
    "    fn=generate,\n",
    "    inputs=gr.Textbox(label=\"Query\"),\n",
    "    outputs=gr.Textbox(label=\"Response\"),\n",
    "    title=\"Chat with my Article\",\n",
    "    description=\"Enter your question regarding my research article, TAGI-V.\",\n",
    "    allow_flagging=\"never\"\n",
    ")\n",
    "\n",
    "# launch the demo\n",
    "demo.launch() \n",
    "\n",
    "\n",
    "\n",
    "\n",
    "\n",
    "\n"
   ]
  }
 ],
 "metadata": {
  "kernelspec": {
   "display_name": "venv",
   "language": "python",
   "name": "python3"
  },
  "language_info": {
   "codemirror_mode": {
    "name": "ipython",
    "version": 3
   },
   "file_extension": ".py",
   "mimetype": "text/x-python",
   "name": "python",
   "nbconvert_exporter": "python",
   "pygments_lexer": "ipython3",
   "version": "3.10.14"
  }
 },
 "nbformat": 4,
 "nbformat_minor": 2
}
